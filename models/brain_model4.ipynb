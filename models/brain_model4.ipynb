{
  "nbformat": 4,
  "nbformat_minor": 0,
  "metadata": {
    "colab": {
      "provenance": [],
      "machine_shape": "hm",
      "gpuType": "T4"
    },
    "kernelspec": {
      "name": "python3",
      "display_name": "Python 3"
    },
    "language_info": {
      "name": "python"
    },
    "accelerator": "GPU"
  },
  "cells": [
    {
      "cell_type": "code",
      "execution_count": 1,
      "metadata": {
        "id": "DJr4-FbPiAUX"
      },
      "outputs": [],
      "source": [
        "#imports\n",
        "import pandas as pd\n",
        "import numpy as np\n",
        "import matplotlib.pyplot as plt\n",
        "import seaborn as sns\n",
        "import os\n",
        "from PIL import Image\n",
        "from sklearn.model_selection import train_test_split\n",
        "from sklearn.utils import shuffle\n",
        "from sklearn.metrics import confusion_matrix, f1_score, accuracy_score, recall_score, precision_score\n",
        "from keras.preprocessing import image\n",
        "from tensorflow.keras.models import Sequential\n",
        "from tensorflow.keras.layers import Dense, Dropout, Flatten, Conv2D, MaxPooling2D"
      ]
    },
    {
      "cell_type": "code",
      "source": [
        "#reading data from my google drive\n",
        "from google.colab import drive\n",
        "drive.mount('/content/drive')"
      ],
      "metadata": {
        "colab": {
          "base_uri": "https://localhost:8080/"
        },
        "id": "4v_MxAvZlqCY",
        "outputId": "9462ab46-86dc-4946-a9ae-97f391cf89e7"
      },
      "execution_count": 2,
      "outputs": [
        {
          "output_type": "stream",
          "name": "stdout",
          "text": [
            "Mounted at /content/drive\n"
          ]
        }
      ]
    },
    {
      "cell_type": "code",
      "source": [
        "!ls '/content/drive/MyDrive/Capstone/brain'"
      ],
      "metadata": {
        "colab": {
          "base_uri": "https://localhost:8080/"
        },
        "id": "-swPTsBgQxba",
        "outputId": "07b0180d-acb0-4394-ec20-ce40a37ae5ed"
      },
      "execution_count": 3,
      "outputs": [
        {
          "output_type": "stream",
          "name": "stdout",
          "text": [
            "Testing  Training\n"
          ]
        }
      ]
    },
    {
      "cell_type": "code",
      "source": [
        "train_folder = '/content/drive/MyDrive/Capstone/brain/Training'\n",
        "test_folder = '/content/drive/MyDrive/Capstone/brain/Testing'"
      ],
      "metadata": {
        "id": "Skl6oL37Q559"
      },
      "execution_count": 4,
      "outputs": []
    },
    {
      "cell_type": "code",
      "source": [
        "#function to read in the images and labels\n",
        "def read_images(folder):\n",
        "  images = []\n",
        "  labels = []\n",
        "  for tumor in os.listdir(folder): #gives a list of the files in this path - all the tumor folders\n",
        "    tumor_path = os.path.join(folder, tumor) #gives us the path to each tumor folder\n",
        "    if os.path.isdir(tumor_path): #if this is an existing path, then proceed\n",
        "      for file in os.listdir(tumor_path): #list of the files in the tumor path - testing and training in each tumor file\n",
        "        tumor_image_path = os.path.join(tumor_path, file) #getting the specific path to the images\n",
        "        tumor_image = image.load_img(tumor_image_path, target_size=(224, 224)) #loading image and setting target size to reshape later\n",
        "        images.append(image.img_to_array(tumor_image)) #adding all the images to the images list and converting the image to an array\n",
        "        labels.append(tumor) #adding labels (names of tumors) to the labels list\n",
        "  images = np.array(images)\n",
        "  labels = np.array(labels)\n",
        "  return images, labels"
      ],
      "metadata": {
        "id": "9vKkBoJdQ_CB"
      },
      "execution_count": 5,
      "outputs": []
    },
    {
      "cell_type": "code",
      "source": [
        "#training data\n",
        "X_train, y_train = read_images(train_folder)\n",
        "X_train, y_train = shuffle(X_train, y_train, random_state=42)\n",
        "\n",
        "#testing data\n",
        "X_test, y_test = read_images(test_folder)\n",
        "X_test, y_test = shuffle(X_test, y_test, random_state=42)\n",
        "\n",
        "y_train_encoded = pd.get_dummies(y_train)\n",
        "y_test_encoded = pd.get_dummies(y_test)"
      ],
      "metadata": {
        "id": "OvLwkrygRFDR"
      },
      "execution_count": 6,
      "outputs": []
    },
    {
      "cell_type": "code",
      "source": [
        "X_train.shape, y_train_encoded.shape"
      ],
      "metadata": {
        "colab": {
          "base_uri": "https://localhost:8080/"
        },
        "id": "b3cscs2tRcv3",
        "outputId": "8e503b00-e55d-4ba9-efb7-0eb4215c5e19"
      },
      "execution_count": 7,
      "outputs": [
        {
          "output_type": "execute_result",
          "data": {
            "text/plain": [
              "((5714, 224, 224, 3), (5714, 4))"
            ]
          },
          "metadata": {},
          "execution_count": 7
        }
      ]
    },
    {
      "cell_type": "code",
      "source": [
        "X_train = X_train / 255\n",
        "X_test = X_test / 255"
      ],
      "metadata": {
        "id": "CIzVxnKySC9s"
      },
      "execution_count": 8,
      "outputs": []
    },
    {
      "cell_type": "code",
      "source": [
        "#trying model 4 with more Conv2D layers and a Dropout\n",
        "model4 = Sequential()\n",
        "\n",
        "model4.add(Conv2D(32, 3, activation='relu', input_shape=(224, 224, 3)))\n",
        "model4.add(MaxPooling2D(2))\n",
        "model4.add(Conv2D(64, 3, activation='relu'))\n",
        "model4.add(MaxPooling2D(2))\n",
        "model4.add(Conv2D(128, 3, activation='relu'))\n",
        "model4.add(MaxPooling2D(2))\n",
        "model4.add(Flatten())\n",
        "model4.add(Dense(128, activation='relu'))\n",
        "model4.add(Dropout(0.5))\n",
        "model4.add(Dense(4, activation='softmax'))"
      ],
      "metadata": {
        "id": "sxg5amDxSQXe"
      },
      "execution_count": 9,
      "outputs": []
    },
    {
      "cell_type": "code",
      "source": [
        "model4.compile(loss='categorical_crossentropy', optimizer='adam', metrics=['acc'])"
      ],
      "metadata": {
        "id": "W9FHeXdQTjO-"
      },
      "execution_count": 10,
      "outputs": []
    },
    {
      "cell_type": "code",
      "source": [
        "history4 = model4.fit(X_train, y_train_encoded, validation_data=(X_test, y_test_encoded), batch_size=32, epochs=10)"
      ],
      "metadata": {
        "colab": {
          "base_uri": "https://localhost:8080/"
        },
        "id": "SWT0tw--Tr0W",
        "outputId": "fe46a41b-8956-489c-919b-240b23e740c9"
      },
      "execution_count": 11,
      "outputs": [
        {
          "output_type": "stream",
          "name": "stdout",
          "text": [
            "Epoch 1/10\n",
            "179/179 [==============================] - 24s 65ms/step - loss: 0.7471 - acc: 0.7023 - val_loss: 0.5411 - val_acc: 0.7841\n",
            "Epoch 2/10\n",
            "179/179 [==============================] - 9s 51ms/step - loss: 0.3976 - acc: 0.8425 - val_loss: 0.3491 - val_acc: 0.8581\n",
            "Epoch 3/10\n",
            "179/179 [==============================] - 9s 52ms/step - loss: 0.2661 - acc: 0.9013 - val_loss: 0.3045 - val_acc: 0.8795\n",
            "Epoch 4/10\n",
            "179/179 [==============================] - 9s 52ms/step - loss: 0.2069 - acc: 0.9254 - val_loss: 0.1714 - val_acc: 0.9321\n",
            "Epoch 5/10\n",
            "179/179 [==============================] - 9s 52ms/step - loss: 0.1435 - acc: 0.9498 - val_loss: 0.1930 - val_acc: 0.9382\n",
            "Epoch 6/10\n",
            "179/179 [==============================] - 9s 52ms/step - loss: 0.1147 - acc: 0.9555 - val_loss: 0.1327 - val_acc: 0.9580\n",
            "Epoch 7/10\n",
            "179/179 [==============================] - 9s 52ms/step - loss: 0.0880 - acc: 0.9685 - val_loss: 0.1419 - val_acc: 0.9481\n",
            "Epoch 8/10\n",
            "179/179 [==============================] - 9s 52ms/step - loss: 0.0782 - acc: 0.9718 - val_loss: 0.1362 - val_acc: 0.9596\n",
            "Epoch 9/10\n",
            "179/179 [==============================] - 9s 52ms/step - loss: 0.0568 - acc: 0.9802 - val_loss: 0.1202 - val_acc: 0.9718\n",
            "Epoch 10/10\n",
            "179/179 [==============================] - 9s 52ms/step - loss: 0.0540 - acc: 0.9816 - val_loss: 0.1220 - val_acc: 0.9687\n"
          ]
        }
      ]
    },
    {
      "cell_type": "code",
      "source": [
        "plt.figure(figsize=(6,6))\n",
        "plt.plot(history4.history['loss'], c='#93C5F3', label='Training Loss')\n",
        "plt.plot(history4.history['val_loss'], c='#344372', label='Validation Loss')\n",
        "plt.legend();"
      ],
      "metadata": {
        "colab": {
          "base_uri": "https://localhost:8080/",
          "height": 522
        },
        "id": "16ouF5Ycq_pH",
        "outputId": "8658d86d-9c76-43f3-9769-e23578df9408"
      },
      "execution_count": 12,
      "outputs": [
        {
          "output_type": "display_data",
          "data": {
            "text/plain": [
              "<Figure size 600x600 with 1 Axes>"
            ],
            "image/png": "[encoded data removed]"
          },
          "metadata": {}
        }
      ]
    },
    {
      "cell_type": "code",
      "source": [
        "model4.evaluate(X_test, y_test_encoded)"
      ],
      "metadata": {
        "colab": {
          "base_uri": "https://localhost:8080/"
        },
        "id": "SOX8BvpWT3nv",
        "outputId": "647f4079-9834-43ec-a660-fc98d19a4e5f"
      },
      "execution_count": 13,
      "outputs": [
        {
          "output_type": "stream",
          "name": "stdout",
          "text": [
            "41/41 [==============================] - 1s 19ms/step - loss: 0.1220 - acc: 0.9687\n"
          ]
        },
        {
          "output_type": "execute_result",
          "data": {
            "text/plain": [
              "[0.12195423990488052, 0.9687261581420898]"
            ]
          },
          "metadata": {},
          "execution_count": 13
        }
      ]
    },
    {
      "cell_type": "code",
      "source": [
        "y_pred4 = model4.predict(X_test)\n",
        "#y_pred4"
      ],
      "metadata": {
        "colab": {
          "base_uri": "https://localhost:8080/"
        },
        "id": "NSIEv494UVft",
        "outputId": "e1c53d6c-ad75-40c8-c921-7c526d9fcab7"
      },
      "execution_count": 14,
      "outputs": [
        {
          "output_type": "stream",
          "name": "stdout",
          "text": [
            "41/41 [==============================] - 1s 17ms/step\n"
          ]
        }
      ]
    },
    {
      "cell_type": "code",
      "source": [
        "y_prediction4 = np.argmax(y_pred4, axis=1)\n",
        "y_prediction4"
      ],
      "metadata": {
        "colab": {
          "base_uri": "https://localhost:8080/"
        },
        "id": "4z53Xhr_UmVC",
        "outputId": "b59f199b-cccd-4aef-a8bb-46fb246a7450"
      },
      "execution_count": 15,
      "outputs": [
        {
          "output_type": "execute_result",
          "data": {
            "text/plain": [
              "array([2, 2, 0, ..., 2, 1, 2])"
            ]
          },
          "metadata": {},
          "execution_count": 15
        }
      ]
    },
    {
      "cell_type": "code",
      "source": [
        "y_true4 = np.argmax(y_test_encoded.values, axis=1)\n",
        "y_true4"
      ],
      "metadata": {
        "colab": {
          "base_uri": "https://localhost:8080/"
        },
        "id": "MNnwgoa_U1l1",
        "outputId": "9c2331eb-6bdb-4632-cfbf-2802f44810de"
      },
      "execution_count": 16,
      "outputs": [
        {
          "output_type": "execute_result",
          "data": {
            "text/plain": [
              "array([2, 2, 0, ..., 2, 1, 2])"
            ]
          },
          "metadata": {},
          "execution_count": 16
        }
      ]
    },
    {
      "cell_type": "code",
      "source": [
        "matrix4 = confusion_matrix(y_true4, y_prediction4)\n",
        "matrix4"
      ],
      "metadata": {
        "colab": {
          "base_uri": "https://localhost:8080/"
        },
        "id": "Nx96EaExVCcS",
        "outputId": "532a00dc-765d-4508-9a30-f9255a200071"
      },
      "execution_count": 17,
      "outputs": [
        {
          "output_type": "execute_result",
          "data": {
            "text/plain": [
              "array([[281,  19,   0,   0],\n",
              "       [  9, 288,   6,   3],\n",
              "       [  0,   0, 405,   0],\n",
              "       [  0,   4,   0, 296]])"
            ]
          },
          "metadata": {},
          "execution_count": 17
        }
      ]
    },
    {
      "cell_type": "code",
      "source": [
        "#plotting the confusion matrix\n",
        "plt.figure(figsize=(6, 6))\n",
        "sns.heatmap(matrix4, annot=True, cmap='Blues', xticklabels=['Glioma', 'Meningioma', 'No Tumor', 'Pituitary'], yticklabels=['Glioma', 'Meningioma', 'No Tumor', 'Pituitary'])\n",
        "plt.xlabel('Predicted')\n",
        "plt.ylabel('Actual')\n",
        "plt.title('Confusion Matrix')\n",
        "plt.show()"
      ],
      "metadata": {
        "colab": {
          "base_uri": "https://localhost:8080/",
          "height": 564
        },
        "id": "CGt8_s_FVPBy",
        "outputId": "3485c4f2-700b-4b9f-f85f-b6b45d584013"
      },
      "execution_count": 18,
      "outputs": [
        {
          "output_type": "display_data",
          "data": {
            "text/plain": [
              "<Figure size 600x600 with 2 Axes>"
            ],
            "image/png": "[encoded data removed]"
          },
          "metadata": {}
        }
      ]
    },
    {
      "cell_type": "code",
      "source": [
        "model4_precision = precision_score(y_true4, y_prediction4, average=None)\n",
        "model4_precision"
      ],
      "metadata": {
        "colab": {
          "base_uri": "https://localhost:8080/"
        },
        "id": "BXFAGA42VUxD",
        "outputId": "660163df-b004-4a70-8aff-834db79a28d1"
      },
      "execution_count": 19,
      "outputs": [
        {
          "output_type": "execute_result",
          "data": {
            "text/plain": [
              "array([0.96896552, 0.92604502, 0.98540146, 0.98996656])"
            ]
          },
          "metadata": {},
          "execution_count": 19
        }
      ]
    },
    {
      "cell_type": "code",
      "source": [
        "model4_accuracy = accuracy_score(y_true4, y_prediction4)\n",
        "model4_accuracy"
      ],
      "metadata": {
        "colab": {
          "base_uri": "https://localhost:8080/"
        },
        "id": "sy-vuXhxVvXn",
        "outputId": "de485039-5470-46b0-bffb-e694ba9296ee"
      },
      "execution_count": 20,
      "outputs": [
        {
          "output_type": "execute_result",
          "data": {
            "text/plain": [
              "0.9687261632341724"
            ]
          },
          "metadata": {},
          "execution_count": 20
        }
      ]
    },
    {
      "cell_type": "code",
      "source": [
        "model4_recall = recall_score(y_true4, y_prediction4, average=None)\n",
        "model4_recall"
      ],
      "metadata": {
        "colab": {
          "base_uri": "https://localhost:8080/"
        },
        "id": "cVmeMl7lV5-u",
        "outputId": "12ffd75d-3c7a-4b92-aa56-4b76f53664db"
      },
      "execution_count": 21,
      "outputs": [
        {
          "output_type": "execute_result",
          "data": {
            "text/plain": [
              "array([0.93666667, 0.94117647, 1.        , 0.98666667])"
            ]
          },
          "metadata": {},
          "execution_count": 21
        }
      ]
    },
    {
      "cell_type": "code",
      "source": [
        "model4_f1_score = f1_score(y_true4, y_prediction4, average=None)\n",
        "model4_f1_score"
      ],
      "metadata": {
        "colab": {
          "base_uri": "https://localhost:8080/"
        },
        "id": "j9jrpqdqV-L8",
        "outputId": "e9940558-cbe8-43a3-b5e7-7ec6a62a30b4"
      },
      "execution_count": 22,
      "outputs": [
        {
          "output_type": "execute_result",
          "data": {
            "text/plain": [
              "array([0.95254237, 0.93354943, 0.99264706, 0.98831386])"
            ]
          },
          "metadata": {},
          "execution_count": 22
        }
      ]
    },
    {
      "cell_type": "code",
      "source": [
        "#baseline model\n",
        "model_baseline = Sequential()\n",
        "\n",
        "model_baseline.add(Conv2D(16, 3, activation='relu', input_shape=(224, 224, 3)))\n",
        "model_baseline.add(MaxPooling2D(2))\n",
        "model_baseline.add(Conv2D(32, 3, activation='relu'))\n",
        "model_baseline.add(MaxPooling2D(2))\n",
        "model_baseline.add(Flatten())\n",
        "model_baseline.add(Dense(4, activation='softmax'))"
      ],
      "metadata": {
        "id": "WbHMDZZfh7M3"
      },
      "execution_count": 23,
      "outputs": []
    },
    {
      "cell_type": "code",
      "source": [
        "model_baseline.compile(loss='categorical_crossentropy', optimizer='adam', metrics=['acc'])"
      ],
      "metadata": {
        "id": "8rMbhaM4h67r"
      },
      "execution_count": 24,
      "outputs": []
    },
    {
      "cell_type": "code",
      "source": [
        "history_baseline = model_baseline.fit(X_train, y_train_encoded, validation_data=(X_test, y_test_encoded), batch_size=32, epochs=10)"
      ],
      "metadata": {
        "colab": {
          "base_uri": "https://localhost:8080/"
        },
        "id": "GjNV6XPOjyUH",
        "outputId": "f0981faa-97d9-4ff2-b615-cf4f7787b2e6"
      },
      "execution_count": 25,
      "outputs": [
        {
          "output_type": "stream",
          "name": "stdout",
          "text": [
            "Epoch 1/10\n",
            "179/179 [==============================] - 8s 36ms/step - loss: 0.6346 - acc: 0.7518 - val_loss: 0.4682 - val_acc: 0.8230\n",
            "Epoch 2/10\n",
            "179/179 [==============================] - 4s 25ms/step - loss: 0.2376 - acc: 0.9198 - val_loss: 0.2845 - val_acc: 0.9016\n",
            "Epoch 3/10\n",
            "179/179 [==============================] - 4s 25ms/step - loss: 0.1469 - acc: 0.9485 - val_loss: 0.1905 - val_acc: 0.9245\n",
            "Epoch 4/10\n",
            "179/179 [==============================] - 4s 25ms/step - loss: 0.0663 - acc: 0.9790 - val_loss: 0.2000 - val_acc: 0.9397\n",
            "Epoch 5/10\n",
            "179/179 [==============================] - 4s 25ms/step - loss: 0.0308 - acc: 0.9921 - val_loss: 0.1813 - val_acc: 0.9519\n",
            "Epoch 6/10\n",
            "179/179 [==============================] - 4s 25ms/step - loss: 0.0192 - acc: 0.9947 - val_loss: 0.1859 - val_acc: 0.9420\n",
            "Epoch 7/10\n",
            "179/179 [==============================] - 4s 25ms/step - loss: 0.0100 - acc: 0.9986 - val_loss: 0.1878 - val_acc: 0.9481\n",
            "Epoch 8/10\n",
            "179/179 [==============================] - 4s 25ms/step - loss: 0.0284 - acc: 0.9909 - val_loss: 0.2875 - val_acc: 0.9207\n",
            "Epoch 9/10\n",
            "179/179 [==============================] - 4s 25ms/step - loss: 0.0342 - acc: 0.9912 - val_loss: 0.2129 - val_acc: 0.9489\n",
            "Epoch 10/10\n",
            "179/179 [==============================] - 4s 25ms/step - loss: 0.0050 - acc: 0.9993 - val_loss: 0.2271 - val_acc: 0.9497\n"
          ]
        }
      ]
    },
    {
      "cell_type": "code",
      "source": [
        "model_baseline.evaluate(X_test, y_test_encoded)"
      ],
      "metadata": {
        "colab": {
          "base_uri": "https://localhost:8080/"
        },
        "id": "44lom6MRj63Y",
        "outputId": "ddb92227-26f5-40db-a6a9-1f07f82d4318"
      },
      "execution_count": 26,
      "outputs": [
        {
          "output_type": "stream",
          "name": "stdout",
          "text": [
            "41/41 [==============================] - 0s 11ms/step - loss: 0.2271 - acc: 0.9497\n"
          ]
        },
        {
          "output_type": "execute_result",
          "data": {
            "text/plain": [
              "[0.22706034779548645, 0.9496567249298096]"
            ]
          },
          "metadata": {},
          "execution_count": 26
        }
      ]
    },
    {
      "cell_type": "code",
      "source": [
        "y_pred_baseline = model_baseline.predict(X_test)\n",
        "#y_pred_baseline"
      ],
      "metadata": {
        "colab": {
          "base_uri": "https://localhost:8080/"
        },
        "id": "Ukb54uoNllxI",
        "outputId": "465f51a3-f3b9-4d29-fc43-5c7c7c2dbf4c"
      },
      "execution_count": 27,
      "outputs": [
        {
          "output_type": "stream",
          "name": "stdout",
          "text": [
            "41/41 [==============================] - 1s 10ms/step\n"
          ]
        }
      ]
    },
    {
      "cell_type": "code",
      "source": [
        "y_prediction_baseline = np.argmax(y_pred_baseline, axis=1)\n",
        "y_prediction_baseline"
      ],
      "metadata": {
        "colab": {
          "base_uri": "https://localhost:8080/"
        },
        "id": "zFCyd_anlld6",
        "outputId": "bd8614b3-ac94-432b-b2f8-8fbf824da536"
      },
      "execution_count": 28,
      "outputs": [
        {
          "output_type": "execute_result",
          "data": {
            "text/plain": [
              "array([2, 2, 0, ..., 2, 1, 2])"
            ]
          },
          "metadata": {},
          "execution_count": 28
        }
      ]
    },
    {
      "cell_type": "code",
      "source": [
        "y_true_baseline = np.argmax(y_test_encoded.values, axis=1)\n",
        "y_true_baseline"
      ],
      "metadata": {
        "colab": {
          "base_uri": "https://localhost:8080/"
        },
        "id": "OT3TD4ILllat",
        "outputId": "44b52e9e-a9d1-46a4-cf03-d0f94e69674d"
      },
      "execution_count": 29,
      "outputs": [
        {
          "output_type": "execute_result",
          "data": {
            "text/plain": [
              "array([2, 2, 0, ..., 2, 1, 2])"
            ]
          },
          "metadata": {},
          "execution_count": 29
        }
      ]
    },
    {
      "cell_type": "code",
      "source": [
        "matrix_baseline = confusion_matrix(y_true_baseline, y_prediction_baseline)\n",
        "matrix_baseline"
      ],
      "metadata": {
        "colab": {
          "base_uri": "https://localhost:8080/"
        },
        "id": "u8AwI0F-llWt",
        "outputId": "3cf00685-9da7-4b11-fb47-2f5c995ba642"
      },
      "execution_count": 30,
      "outputs": [
        {
          "output_type": "execute_result",
          "data": {
            "text/plain": [
              "array([[260,  40,   0,   0],\n",
              "       [ 13, 283,   7,   3],\n",
              "       [  0,   0, 405,   0],\n",
              "       [  0,   3,   0, 297]])"
            ]
          },
          "metadata": {},
          "execution_count": 30
        }
      ]
    },
    {
      "cell_type": "code",
      "source": [
        "#plotting the confusion matrix\n",
        "plt.figure(figsize=(6, 6))\n",
        "sns.heatmap(matrix_baseline, annot=True, cmap='Blues', xticklabels=['Glioma', 'Meningioma', 'No Tumor', 'Pituitary'], yticklabels=['Glioma', 'Meningioma', 'No Tumor', 'Pituitary'])\n",
        "plt.xlabel('Predicted')\n",
        "plt.ylabel('Actual')\n",
        "plt.title('Confusion Matrix')\n",
        "plt.show()"
      ],
      "metadata": {
        "colab": {
          "base_uri": "https://localhost:8080/",
          "height": 564
        },
        "id": "PV2zI9TnllSQ",
        "outputId": "c7d42cd7-420e-480a-b429-8ae3742c31ed"
      },
      "execution_count": 31,
      "outputs": [
        {
          "output_type": "display_data",
          "data": {
            "text/plain": [
              "<Figure size 600x600 with 2 Axes>"
            ],
            "image/png": "[encoded data removed]"
          },
          "metadata": {}
        }
      ]
    },
    {
      "cell_type": "code",
      "source": [
        "model_baseline_precision = precision_score(y_true_baseline, y_prediction_baseline, average=None)\n",
        "model_baseline_precision"
      ],
      "metadata": {
        "colab": {
          "base_uri": "https://localhost:8080/"
        },
        "id": "X6IJCsE5llJW",
        "outputId": "dd4c70b7-1a04-4ea3-fa49-6018107b6554"
      },
      "execution_count": 32,
      "outputs": [
        {
          "output_type": "execute_result",
          "data": {
            "text/plain": [
              "array([0.95238095, 0.86809816, 0.98300971, 0.99      ])"
            ]
          },
          "metadata": {},
          "execution_count": 32
        }
      ]
    },
    {
      "cell_type": "code",
      "source": [
        "model_baseline_accuracy = accuracy_score(y_true_baseline, y_prediction_baseline)\n",
        "model_baseline_accuracy"
      ],
      "metadata": {
        "colab": {
          "base_uri": "https://localhost:8080/"
        },
        "id": "LlNWiuiHllA6",
        "outputId": "158a2cc0-62df-42e7-a801-6766ff4792ae"
      },
      "execution_count": 33,
      "outputs": [
        {
          "output_type": "execute_result",
          "data": {
            "text/plain": [
              "0.9496567505720824"
            ]
          },
          "metadata": {},
          "execution_count": 33
        }
      ]
    },
    {
      "cell_type": "code",
      "source": [
        "model_baseline_recall = recall_score(y_true_baseline, y_prediction_baseline, average=None)\n",
        "model_baseline_recall"
      ],
      "metadata": {
        "colab": {
          "base_uri": "https://localhost:8080/"
        },
        "id": "O-BhAhsvlk1H",
        "outputId": "34343284-21cd-4779-9397-0c012ec171b9"
      },
      "execution_count": 34,
      "outputs": [
        {
          "output_type": "execute_result",
          "data": {
            "text/plain": [
              "array([0.86666667, 0.9248366 , 1.        , 0.99      ])"
            ]
          },
          "metadata": {},
          "execution_count": 34
        }
      ]
    },
    {
      "cell_type": "code",
      "source": [
        "model_baseline_f1_score = f1_score(y_true_baseline, y_prediction_baseline, average=None)\n",
        "model_baseline_f1_score"
      ],
      "metadata": {
        "colab": {
          "base_uri": "https://localhost:8080/"
        },
        "id": "Jdw0HXyQprtV",
        "outputId": "fa1f7880-bd1c-4cd8-d4c1-622af55955e5"
      },
      "execution_count": 35,
      "outputs": [
        {
          "output_type": "execute_result",
          "data": {
            "text/plain": [
              "array([0.90750436, 0.89556962, 0.99143207, 0.99      ])"
            ]
          },
          "metadata": {},
          "execution_count": 35
        }
      ]
    },
    {
      "cell_type": "code",
      "source": [
        "model4.save('model4.h5')"
      ],
      "metadata": {
        "colab": {
          "base_uri": "https://localhost:8080/"
        },
        "id": "8718HPM9-WRQ",
        "outputId": "a6426780-5f10-487b-bde0-41b282809717"
      },
      "execution_count": 36,
      "outputs": [
        {
          "output_type": "stream",
          "name": "stderr",
          "text": [
            "/usr/local/lib/python3.10/dist-packages/keras/src/engine/training.py:3079: UserWarning: You are saving your model as an HDF5 file via `model.save()`. This file format is considered legacy. We recommend using instead the native Keras format, e.g. `model.save('my_model.keras')`.\n",
            "  saving_api.save_model(\n"
          ]
        }
      ]
    },
    {
      "cell_type": "code",
      "source": [
        "from google.colab import files\n",
        "\n",
        "files.download('model4.h5')"
      ],
      "metadata": {
        "colab": {
          "base_uri": "https://localhost:8080/",
          "height": 17
        },
        "id": "9-gLRgzoHTxJ",
        "outputId": "f98cf229-ee50-4d42-a9dd-9065c7ef606d"
      },
      "execution_count": 37,
      "outputs": [
        {
          "output_type": "display_data",
          "data": {
            "text/plain": [
              "<IPython.core.display.Javascript object>"
            ],
            "application/javascript": [
              "\n",
              "    async function download(id, filename, size) {\n",
              "      if (!google.colab.kernel.accessAllowed) {\n",
              "        return;\n",
              "      }\n",
              "      const div = document.createElement('div');\n",
              "      const label = document.createElement('label');\n",
              "      label.textContent = `Downloading \"${filename}\": `;\n",
              "      div.appendChild(label);\n",
              "      const progress = document.createElement('progress');\n",
              "      progress.max = size;\n",
              "      div.appendChild(progress);\n",
              "      document.body.appendChild(div);\n",
              "\n",
              "      const buffers = [];\n",
              "      let downloaded = 0;\n",
              "\n",
              "      const channel = await google.colab.kernel.comms.open(id);\n",
              "      // Send a message to notify the kernel that we're ready.\n",
              "      channel.send({})\n",
              "\n",
              "      for await (const message of channel.messages) {\n",
              "        // Send a message to notify the kernel that we're ready.\n",
              "        channel.send({})\n",
              "        if (message.buffers) {\n",
              "          for (const buffer of message.buffers) {\n",
              "            buffers.push(buffer);\n",
              "            downloaded += buffer.byteLength;\n",
              "            progress.value = downloaded;\n",
              "          }\n",
              "        }\n",
              "      }\n",
              "      const blob = new Blob(buffers, {type: 'application/binary'});\n",
              "      const a = document.createElement('a');\n",
              "      a.href = window.URL.createObjectURL(blob);\n",
              "      a.download = filename;\n",
              "      div.appendChild(a);\n",
              "      a.click();\n",
              "      div.remove();\n",
              "    }\n",
              "  "
            ]
          },
          "metadata": {}
        },
        {
          "output_type": "display_data",
          "data": {
            "text/plain": [
              "<IPython.core.display.Javascript object>"
            ],
            "application/javascript": [
              "download(\"download_fee77aaa-cd5f-4d04-80e0-a0c3f5acc1d6\", \"model4.h5\", 134087520)"
            ]
          },
          "metadata": {}
        }
      ]
    },
    {
      "cell_type": "code",
      "source": [],
      "metadata": {
        "id": "r3So0sx7HWgm"
      },
      "execution_count": 37,
      "outputs": []
    }
  ]
}