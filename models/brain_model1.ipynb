{
  "nbformat": 4,
  "nbformat_minor": 0,
  "metadata": {
    "colab": {
      "provenance": [],
      "machine_shape": "hm",
      "gpuType": "T4"
    },
    "kernelspec": {
      "name": "python3",
      "display_name": "Python 3"
    },
    "language_info": {
      "name": "python"
    },
    "accelerator": "GPU"
  },
  "cells": [
    {
      "cell_type": "code",
      "execution_count": 20,
      "metadata": {
        "id": "5CjTBb7dW2Bt"
      },
      "outputs": [],
      "source": [
        "#imports\n",
        "import pandas as pd\n",
        "import numpy as np\n",
        "import matplotlib.pyplot as plt\n",
        "import seaborn as sns\n",
        "import os\n",
        "from PIL import Image\n",
        "from sklearn.model_selection import train_test_split\n",
        "from sklearn.utils import shuffle\n",
        "from sklearn.dummy import DummyClassifier\n",
        "from sklearn.metrics import confusion_matrix, f1_score, accuracy_score, recall_score, precision_score, classification_report\n",
        "from keras.preprocessing import image\n",
        "from tensorflow.keras.models import Sequential\n",
        "from tensorflow.keras.layers import Dense, Flatten, Conv2D, MaxPooling2D"
      ]
    },
    {
      "cell_type": "code",
      "source": [
        "#reading data from my google drive\n",
        "from google.colab import drive\n",
        "drive.mount('/content/drive')"
      ],
      "metadata": {
        "colab": {
          "base_uri": "https://localhost:8080/"
        },
        "id": "CaYKa6eyW8Im",
        "outputId": "e4abc161-219a-4933-f42d-e54cafc12b7f"
      },
      "execution_count": 21,
      "outputs": [
        {
          "output_type": "stream",
          "name": "stdout",
          "text": [
            "Drive already mounted at /content/drive; to attempt to forcibly remount, call drive.mount(\"/content/drive\", force_remount=True).\n"
          ]
        }
      ]
    },
    {
      "cell_type": "code",
      "source": [
        "!ls '/content/drive/MyDrive/Capstone/brain'"
      ],
      "metadata": {
        "colab": {
          "base_uri": "https://localhost:8080/"
        },
        "id": "gwoo-RNQXBrK",
        "outputId": "b6f92e38-0110-43f4-d888-f4cadba65051"
      },
      "execution_count": 22,
      "outputs": [
        {
          "output_type": "stream",
          "name": "stdout",
          "text": [
            "Testing  Training\n"
          ]
        }
      ]
    },
    {
      "cell_type": "code",
      "source": [
        "train_folder = '/content/drive/MyDrive/Capstone/brain/Training'\n",
        "test_folder = '/content/drive/MyDrive/Capstone/brain/Testing'"
      ],
      "metadata": {
        "id": "mqdFD7pLXJHJ"
      },
      "execution_count": 23,
      "outputs": []
    },
    {
      "cell_type": "code",
      "source": [
        "#function to read in the images and labels\n",
        "def read_images(folder):\n",
        "  images = []\n",
        "  labels = []\n",
        "  for tumor in os.listdir(folder): #gives a list of the files in this path - all the tumor folders\n",
        "    tumor_path = os.path.join(folder, tumor) #gives us the path to each tumor folder\n",
        "    if os.path.isdir(tumor_path): #if this is an existing path, then proceed\n",
        "      for file in os.listdir(tumor_path): #list of the files in the tumor path - testing and training in each tumor file\n",
        "        tumor_image_path = os.path.join(tumor_path, file) #getting the specific path to the images\n",
        "        tumor_image = image.load_img(tumor_image_path, target_size=(224, 224)) #loading image and setting target size to reshape later\n",
        "        images.append(image.img_to_array(tumor_image)) #adding all the images to the images list and converting the image to an array\n",
        "        labels.append(tumor) #adding labels (names of tumors) to the labels list\n",
        "  images = np.array(images)\n",
        "  labels = np.array(labels)\n",
        "  return images, labels"
      ],
      "metadata": {
        "id": "p5PHMI02XMoV"
      },
      "execution_count": 24,
      "outputs": []
    },
    {
      "cell_type": "code",
      "source": [
        "#training data\n",
        "X_train, y_train = read_images(train_folder)\n",
        "X_train, y_train = shuffle(X_train, y_train, random_state=42)\n",
        "\n",
        "#testing data\n",
        "X_test, y_test = read_images(test_folder)\n",
        "X_test, y_test = shuffle(X_test, y_test, random_state=42)\n",
        "\n",
        "y_train_encoded = pd.get_dummies(y_train)\n",
        "y_test_encoded = pd.get_dummies(y_test)"
      ],
      "metadata": {
        "id": "3SChInenXO5E"
      },
      "execution_count": 25,
      "outputs": []
    },
    {
      "cell_type": "code",
      "source": [
        "X_train.shape, y_train_encoded.shape"
      ],
      "metadata": {
        "colab": {
          "base_uri": "https://localhost:8080/"
        },
        "id": "Z7Mv5TMIXSMX",
        "outputId": "ccaa7419-f7e1-4bad-e533-f536da7fffbe"
      },
      "execution_count": 26,
      "outputs": [
        {
          "output_type": "execute_result",
          "data": {
            "text/plain": [
              "((5714, 224, 224, 3), (5714, 4))"
            ]
          },
          "metadata": {},
          "execution_count": 26
        }
      ]
    },
    {
      "cell_type": "code",
      "source": [
        "X_train = X_train / 255\n",
        "X_test = X_test / 255"
      ],
      "metadata": {
        "id": "MD1qIpPdX0TR"
      },
      "execution_count": 27,
      "outputs": []
    },
    {
      "cell_type": "code",
      "source": [
        "#testing model 1 using Conv2D and MaxPooling layers\n",
        "model1 = Sequential()\n",
        "\n",
        "model1.add(Conv2D(32, 2, activation='relu', input_shape=(224, 224, 3)))\n",
        "model1.add(MaxPooling2D(2))\n",
        "model1.add(Flatten())\n",
        "model1.add(Dense(4, activation='softmax'))"
      ],
      "metadata": {
        "id": "fBFnK_eqX2Ry"
      },
      "execution_count": 28,
      "outputs": []
    },
    {
      "cell_type": "code",
      "source": [
        "model1.compile(loss='categorical_crossentropy', optimizer='adam', metrics=['acc'])"
      ],
      "metadata": {
        "id": "iJ1ZgxedX38a"
      },
      "execution_count": 29,
      "outputs": []
    },
    {
      "cell_type": "code",
      "source": [
        "history1 = model1.fit(X_train, y_train_encoded, validation_data=(X_test, y_test_encoded), batch_size=32, epochs=10)"
      ],
      "metadata": {
        "colab": {
          "base_uri": "https://localhost:8080/"
        },
        "id": "lPmujbBSX6Zt",
        "outputId": "03efb96a-e382-4f48-97ae-bfc43dabe620"
      },
      "execution_count": 30,
      "outputs": [
        {
          "output_type": "stream",
          "name": "stdout",
          "text": [
            "Epoch 1/10\n",
            "179/179 [==============================] - 7s 34ms/step - loss: 0.9280 - acc: 0.7616 - val_loss: 0.4067 - val_acc: 0.8696\n",
            "Epoch 2/10\n",
            "179/179 [==============================] - 5s 26ms/step - loss: 0.1753 - acc: 0.9415 - val_loss: 0.2058 - val_acc: 0.9352\n",
            "Epoch 3/10\n",
            "179/179 [==============================] - 5s 26ms/step - loss: 0.0706 - acc: 0.9834 - val_loss: 0.1861 - val_acc: 0.9382\n",
            "Epoch 4/10\n",
            "179/179 [==============================] - 5s 26ms/step - loss: 0.0304 - acc: 0.9946 - val_loss: 0.1831 - val_acc: 0.9390\n",
            "Epoch 5/10\n",
            "179/179 [==============================] - 5s 26ms/step - loss: 0.0121 - acc: 0.9997 - val_loss: 0.3488 - val_acc: 0.9069\n",
            "Epoch 6/10\n",
            "179/179 [==============================] - 5s 26ms/step - loss: 0.0089 - acc: 0.9991 - val_loss: 0.2217 - val_acc: 0.9367\n",
            "Epoch 7/10\n",
            "179/179 [==============================] - 5s 26ms/step - loss: 0.0044 - acc: 1.0000 - val_loss: 0.1699 - val_acc: 0.9519\n",
            "Epoch 8/10\n",
            "179/179 [==============================] - 5s 26ms/step - loss: 0.0023 - acc: 1.0000 - val_loss: 0.1805 - val_acc: 0.9519\n",
            "Epoch 9/10\n",
            "179/179 [==============================] - 5s 26ms/step - loss: 0.0017 - acc: 1.0000 - val_loss: 0.1893 - val_acc: 0.9519\n",
            "Epoch 10/10\n",
            "179/179 [==============================] - 5s 26ms/step - loss: 0.0013 - acc: 1.0000 - val_loss: 0.1849 - val_acc: 0.9512\n"
          ]
        }
      ]
    },
    {
      "cell_type": "code",
      "source": [
        "plt.figure(figsize=(6,6))\n",
        "plt.plot(history1.history['loss'], c='#93C5F3', label='Training Loss')\n",
        "plt.plot(history1.history['val_loss'], c='#344372', label='Validation Loss')\n",
        "plt.legend();"
      ],
      "metadata": {
        "colab": {
          "base_uri": "https://localhost:8080/",
          "height": 522
        },
        "id": "TbloC1Klj4ay",
        "outputId": "27dfd967-bb66-459c-9f97-26dd279d3304"
      },
      "execution_count": 31,
      "outputs": [
        {
          "output_type": "display_data",
          "data": {
            "text/plain": [
              "<Figure size 600x600 with 1 Axes>"
            ],
            "image/png": "[encoded data removed]"
          },
          "metadata": {}
        }
      ]
    },
    {
      "cell_type": "code",
      "source": [
        "model1.evaluate(X_test, y_test_encoded)"
      ],
      "metadata": {
        "colab": {
          "base_uri": "https://localhost:8080/"
        },
        "id": "AD5G-tNBX-UM",
        "outputId": "a9d31771-32b6-4d04-c8b4-d81f3ffb849c"
      },
      "execution_count": 32,
      "outputs": [
        {
          "output_type": "stream",
          "name": "stdout",
          "text": [
            "41/41 [==============================] - 1s 12ms/step - loss: 0.1849 - acc: 0.9512\n"
          ]
        },
        {
          "output_type": "execute_result",
          "data": {
            "text/plain": [
              "[0.18489594757556915, 0.9511823058128357]"
            ]
          },
          "metadata": {},
          "execution_count": 32
        }
      ]
    },
    {
      "cell_type": "code",
      "source": [
        "y_pred = model1.predict(X_test)\n",
        "#y_pred"
      ],
      "metadata": {
        "colab": {
          "base_uri": "https://localhost:8080/"
        },
        "id": "gaPV0YIkZBLu",
        "outputId": "c6d4e9d6-b099-4c77-f481-dc582e19659b"
      },
      "execution_count": 33,
      "outputs": [
        {
          "output_type": "stream",
          "name": "stdout",
          "text": [
            "41/41 [==============================] - 0s 10ms/step\n"
          ]
        }
      ]
    },
    {
      "cell_type": "code",
      "source": [
        "y_prediction = np.argmax(y_pred, axis=1)\n",
        "y_prediction"
      ],
      "metadata": {
        "colab": {
          "base_uri": "https://localhost:8080/"
        },
        "id": "szehFeTCQmk0",
        "outputId": "f6287b38-1f02-45d3-e522-b72227826f2a"
      },
      "execution_count": 34,
      "outputs": [
        {
          "output_type": "execute_result",
          "data": {
            "text/plain": [
              "array([2, 2, 0, ..., 2, 1, 2])"
            ]
          },
          "metadata": {},
          "execution_count": 34
        }
      ]
    },
    {
      "cell_type": "code",
      "source": [
        "y_true = np.argmax(y_test_encoded.values, axis=1)\n",
        "y_true"
      ],
      "metadata": {
        "colab": {
          "base_uri": "https://localhost:8080/"
        },
        "id": "DYMVlp5aScc8",
        "outputId": "c71ae97d-6fdf-47b7-ee0c-d5722d12c24e"
      },
      "execution_count": 35,
      "outputs": [
        {
          "output_type": "execute_result",
          "data": {
            "text/plain": [
              "array([2, 2, 0, ..., 2, 1, 2])"
            ]
          },
          "metadata": {},
          "execution_count": 35
        }
      ]
    },
    {
      "cell_type": "code",
      "source": [
        "matrix = confusion_matrix(y_true, y_prediction)\n",
        "matrix"
      ],
      "metadata": {
        "id": "pnvNjQN1ZQI2",
        "colab": {
          "base_uri": "https://localhost:8080/"
        },
        "outputId": "818c1ce4-f257-4df2-b91b-f22553a22bc1"
      },
      "execution_count": 36,
      "outputs": [
        {
          "output_type": "execute_result",
          "data": {
            "text/plain": [
              "array([[272,  28,   0,   0],\n",
              "       [ 19, 274,   8,   5],\n",
              "       [  0,   0, 405,   0],\n",
              "       [  1,   3,   0, 296]])"
            ]
          },
          "metadata": {},
          "execution_count": 36
        }
      ]
    },
    {
      "cell_type": "code",
      "source": [
        "#plotting the confusion matrix\n",
        "plt.figure(figsize=(6, 6))\n",
        "sns.heatmap(matrix, annot=True, cmap='Blues', xticklabels=['Glioma', 'Meningioma', 'No Tumor', 'Pituitary'], yticklabels=['Glioma', 'Meningioma', 'No Tumor', 'Pituitary'])\n",
        "plt.xlabel('Predicted')\n",
        "plt.ylabel('Actual')\n",
        "plt.title('Confusion Matrix')\n",
        "plt.show()"
      ],
      "metadata": {
        "colab": {
          "base_uri": "https://localhost:8080/",
          "height": 564
        },
        "id": "uo2q4pPIUV4M",
        "outputId": "265244f1-a96b-4dc0-b211-d35fbcc56d33"
      },
      "execution_count": 37,
      "outputs": [
        {
          "output_type": "display_data",
          "data": {
            "text/plain": [
              "<Figure size 600x600 with 2 Axes>"
            ],
            "image/png": "[encoded data removed]"
          },
          "metadata": {}
        }
      ]
    },
    {
      "cell_type": "code",
      "source": [
        "model1_precision = precision_score(y_true, y_prediction, average=None)\n",
        "model1_precision"
      ],
      "metadata": {
        "id": "rmzwkFDXZgSV",
        "colab": {
          "base_uri": "https://localhost:8080/"
        },
        "outputId": "9b564a76-8f31-4ac2-d0e6-6a2a690318cd"
      },
      "execution_count": 38,
      "outputs": [
        {
          "output_type": "execute_result",
          "data": {
            "text/plain": [
              "array([0.93150685, 0.89836066, 0.98062954, 0.9833887 ])"
            ]
          },
          "metadata": {},
          "execution_count": 38
        }
      ]
    },
    {
      "cell_type": "code",
      "source": [
        "model1_accuracy = accuracy_score(y_true, y_prediction)\n",
        "model1_accuracy"
      ],
      "metadata": {
        "colab": {
          "base_uri": "https://localhost:8080/"
        },
        "id": "r5E539daQUOz",
        "outputId": "688ec3c3-e410-4a17-8e1a-0baa81d2f376"
      },
      "execution_count": 39,
      "outputs": [
        {
          "output_type": "execute_result",
          "data": {
            "text/plain": [
              "0.9511823035850496"
            ]
          },
          "metadata": {},
          "execution_count": 39
        }
      ]
    },
    {
      "cell_type": "code",
      "source": [
        "model1_recall = recall_score(y_true, y_prediction, average=None)\n",
        "model1_recall"
      ],
      "metadata": {
        "colab": {
          "base_uri": "https://localhost:8080/"
        },
        "id": "HSqW06BCTmOE",
        "outputId": "2720f68a-e33a-4e97-eddf-66db7cd2ca1d"
      },
      "execution_count": 40,
      "outputs": [
        {
          "output_type": "execute_result",
          "data": {
            "text/plain": [
              "array([0.90666667, 0.89542484, 1.        , 0.98666667])"
            ]
          },
          "metadata": {},
          "execution_count": 40
        }
      ]
    },
    {
      "cell_type": "code",
      "source": [
        "model1_f1_score = f1_score(y_true, y_prediction, average=None)\n",
        "model1_f1_score"
      ],
      "metadata": {
        "colab": {
          "base_uri": "https://localhost:8080/"
        },
        "id": "44__wxQWTrg9",
        "outputId": "5b091e10-4517-43eb-e41f-ea7875bbbc93"
      },
      "execution_count": 41,
      "outputs": [
        {
          "output_type": "execute_result",
          "data": {
            "text/plain": [
              "array([0.91891892, 0.89689034, 0.99022005, 0.98502496])"
            ]
          },
          "metadata": {},
          "execution_count": 41
        }
      ]
    },
    {
      "cell_type": "code",
      "source": [
        "#baseline scores\n",
        "random_classifier = DummyClassifier(strategy=\"uniform\")\n",
        "random_classifier.fit(X_train, y_train_encoded)"
      ],
      "metadata": {
        "colab": {
          "base_uri": "https://localhost:8080/",
          "height": 74
        },
        "id": "mRT0lBNwIZUu",
        "outputId": "85274df6-a055-49c9-ce57-d131762e91e6"
      },
      "execution_count": 42,
      "outputs": [
        {
          "output_type": "execute_result",
          "data": {
            "text/plain": [
              "DummyClassifier(strategy='uniform')"
            ],
            "text/html": [
              "<style>#sk-container-id-1 {color: black;background-color: white;}#sk-container-id-1 pre{padding: 0;}#sk-container-id-1 div.sk-toggleable {background-color: white;}#sk-container-id-1 label.sk-toggleable__label {cursor: pointer;display: block;width: 100%;margin-bottom: 0;padding: 0.3em;box-sizing: border-box;text-align: center;}#sk-container-id-1 label.sk-toggleable__label-arrow:before {content: \"▸\";float: left;margin-right: 0.25em;color: #696969;}#sk-container-id-1 label.sk-toggleable__label-arrow:hover:before {color: black;}#sk-container-id-1 div.sk-estimator:hover label.sk-toggleable__label-arrow:before {color: black;}#sk-container-id-1 div.sk-toggleable__content {max-height: 0;max-width: 0;overflow: hidden;text-align: left;background-color: #f0f8ff;}#sk-container-id-1 div.sk-toggleable__content pre {margin: 0.2em;color: black;border-radius: 0.25em;background-color: #f0f8ff;}#sk-container-id-1 input.sk-toggleable__control:checked~div.sk-toggleable__content {max-height: 200px;max-width: 100%;overflow: auto;}#sk-container-id-1 input.sk-toggleable__control:checked~label.sk-toggleable__label-arrow:before {content: \"▾\";}#sk-container-id-1 div.sk-estimator input.sk-toggleable__control:checked~label.sk-toggleable__label {background-color: #d4ebff;}#sk-container-id-1 div.sk-label input.sk-toggleable__control:checked~label.sk-toggleable__label {background-color: #d4ebff;}#sk-container-id-1 input.sk-hidden--visually {border: 0;clip: rect(1px 1px 1px 1px);clip: rect(1px, 1px, 1px, 1px);height: 1px;margin: -1px;overflow: hidden;padding: 0;position: absolute;width: 1px;}#sk-container-id-1 div.sk-estimator {font-family: monospace;background-color: #f0f8ff;border: 1px dotted black;border-radius: 0.25em;box-sizing: border-box;margin-bottom: 0.5em;}#sk-container-id-1 div.sk-estimator:hover {background-color: #d4ebff;}#sk-container-id-1 div.sk-parallel-item::after {content: \"\";width: 100%;border-bottom: 1px solid gray;flex-grow: 1;}#sk-container-id-1 div.sk-label:hover label.sk-toggleable__label {background-color: #d4ebff;}#sk-container-id-1 div.sk-serial::before {content: \"\";position: absolute;border-left: 1px solid gray;box-sizing: border-box;top: 0;bottom: 0;left: 50%;z-index: 0;}#sk-container-id-1 div.sk-serial {display: flex;flex-direction: column;align-items: center;background-color: white;padding-right: 0.2em;padding-left: 0.2em;position: relative;}#sk-container-id-1 div.sk-item {position: relative;z-index: 1;}#sk-container-id-1 div.sk-parallel {display: flex;align-items: stretch;justify-content: center;background-color: white;position: relative;}#sk-container-id-1 div.sk-item::before, #sk-container-id-1 div.sk-parallel-item::before {content: \"\";position: absolute;border-left: 1px solid gray;box-sizing: border-box;top: 0;bottom: 0;left: 50%;z-index: -1;}#sk-container-id-1 div.sk-parallel-item {display: flex;flex-direction: column;z-index: 1;position: relative;background-color: white;}#sk-container-id-1 div.sk-parallel-item:first-child::after {align-self: flex-end;width: 50%;}#sk-container-id-1 div.sk-parallel-item:last-child::after {align-self: flex-start;width: 50%;}#sk-container-id-1 div.sk-parallel-item:only-child::after {width: 0;}#sk-container-id-1 div.sk-dashed-wrapped {border: 1px dashed gray;margin: 0 0.4em 0.5em 0.4em;box-sizing: border-box;padding-bottom: 0.4em;background-color: white;}#sk-container-id-1 div.sk-label label {font-family: monospace;font-weight: bold;display: inline-block;line-height: 1.2em;}#sk-container-id-1 div.sk-label-container {text-align: center;}#sk-container-id-1 div.sk-container {/* jupyter's `normalize.less` sets `[hidden] { display: none; }` but bootstrap.min.css set `[hidden] { display: none !important; }` so we also need the `!important` here to be able to override the default hidden behavior on the sphinx rendered scikit-learn.org. See: https://github.com/scikit-learn/scikit-learn/issues/21755 */display: inline-block !important;position: relative;}#sk-container-id-1 div.sk-text-repr-fallback {display: none;}</style><div id=\"sk-container-id-1\" class=\"sk-top-container\"><div class=\"sk-text-repr-fallback\"><pre>DummyClassifier(strategy=&#x27;uniform&#x27;)</pre><b>In a Jupyter environment, please rerun this cell to show the HTML representation or trust the notebook. <br />On GitHub, the HTML representation is unable to render, please try loading this page with nbviewer.org.</b></div><div class=\"sk-container\" hidden><div class=\"sk-item\"><div class=\"sk-estimator sk-toggleable\"><input class=\"sk-toggleable__control sk-hidden--visually\" id=\"sk-estimator-id-1\" type=\"checkbox\" checked><label for=\"sk-estimator-id-1\" class=\"sk-toggleable__label sk-toggleable__label-arrow\">DummyClassifier</label><div class=\"sk-toggleable__content\"><pre>DummyClassifier(strategy=&#x27;uniform&#x27;)</pre></div></div></div></div></div>"
            ]
          },
          "metadata": {},
          "execution_count": 42
        }
      ]
    },
    {
      "cell_type": "code",
      "source": [
        "random_prediction = random_classifier.predict(X_test)"
      ],
      "metadata": {
        "id": "g1VaIpsXIry7"
      },
      "execution_count": 43,
      "outputs": []
    },
    {
      "cell_type": "code",
      "source": [
        "report = classification_report(y_test_encoded, random_prediction)\n",
        "print(report)"
      ],
      "metadata": {
        "colab": {
          "base_uri": "https://localhost:8080/"
        },
        "id": "IdfYDh-kI0Il",
        "outputId": "09e8ecfa-9349-4baa-d777-dfbff4c03574"
      },
      "execution_count": 44,
      "outputs": [
        {
          "output_type": "stream",
          "name": "stdout",
          "text": [
            "              precision    recall  f1-score   support\n",
            "\n",
            "           0       0.22      0.49      0.31       300\n",
            "           1       0.22      0.45      0.29       306\n",
            "           2       0.32      0.51      0.39       405\n",
            "           3       0.23      0.51      0.32       300\n",
            "\n",
            "   micro avg       0.25      0.49      0.33      1311\n",
            "   macro avg       0.25      0.49      0.33      1311\n",
            "weighted avg       0.25      0.49      0.33      1311\n",
            " samples avg       0.23      0.49      0.30      1311\n",
            "\n"
          ]
        },
        {
          "output_type": "stream",
          "name": "stderr",
          "text": [
            "/usr/local/lib/python3.10/dist-packages/sklearn/metrics/_classification.py:1344: UndefinedMetricWarning: Precision and F-score are ill-defined and being set to 0.0 in samples with no predicted labels. Use `zero_division` parameter to control this behavior.\n",
            "  _warn_prf(average, modifier, msg_start, len(result))\n"
          ]
        }
      ]
    },
    {
      "cell_type": "code",
      "source": [],
      "metadata": {
        "id": "7_qdnd7QI7X3"
      },
      "execution_count": 44,
      "outputs": []
    }
  ]
}