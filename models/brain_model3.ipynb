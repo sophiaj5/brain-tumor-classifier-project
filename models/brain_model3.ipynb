{
  "nbformat": 4,
  "nbformat_minor": 0,
  "metadata": {
    "colab": {
      "provenance": [],
      "machine_shape": "hm",
      "gpuType": "T4"
    },
    "kernelspec": {
      "name": "python3",
      "display_name": "Python 3"
    },
    "language_info": {
      "name": "python"
    },
    "accelerator": "GPU"
  },
  "cells": [
    {
      "cell_type": "code",
      "execution_count": 1,
      "metadata": {
        "id": "YiYK-QMzU32C"
      },
      "outputs": [],
      "source": [
        "#imports\n",
        "import pandas as pd\n",
        "import numpy as np\n",
        "import matplotlib.pyplot as plt\n",
        "import seaborn as sns\n",
        "import os\n",
        "from PIL import Image\n",
        "from sklearn.model_selection import train_test_split\n",
        "from sklearn.utils import shuffle\n",
        "from sklearn.dummy import DummyClassifier\n",
        "from sklearn.metrics import confusion_matrix, f1_score, accuracy_score, recall_score, precision_score, classification_report\n",
        "from keras.preprocessing import image\n",
        "from tensorflow.keras.models import Sequential\n",
        "from tensorflow.keras.layers import Dense, Flatten\n",
        "from tensorflow.keras.regularizers import l2"
      ]
    },
    {
      "cell_type": "code",
      "source": [
        "#reading data from my google drive\n",
        "from google.colab import drive\n",
        "drive.mount('/content/drive')"
      ],
      "metadata": {
        "colab": {
          "base_uri": "https://localhost:8080/"
        },
        "id": "BiIJTqW_aF1z",
        "outputId": "cb02b1a5-58a7-452b-8721-4ae41fae9251"
      },
      "execution_count": 2,
      "outputs": [
        {
          "output_type": "stream",
          "name": "stdout",
          "text": [
            "Mounted at /content/drive\n"
          ]
        }
      ]
    },
    {
      "cell_type": "code",
      "source": [
        "!ls '/content/drive/MyDrive/Capstone/brain'"
      ],
      "metadata": {
        "colab": {
          "base_uri": "https://localhost:8080/"
        },
        "id": "MNujNmGuaOMD",
        "outputId": "02118a65-d1b7-4973-a937-43cb76ede79e"
      },
      "execution_count": 3,
      "outputs": [
        {
          "output_type": "stream",
          "name": "stdout",
          "text": [
            "Testing  Training\n"
          ]
        }
      ]
    },
    {
      "cell_type": "code",
      "source": [
        "train_folder = '/content/drive/MyDrive/Capstone/brain/Training'\n",
        "test_folder = '/content/drive/MyDrive/Capstone/brain/Testing'"
      ],
      "metadata": {
        "id": "M-A2ZmljaZTh"
      },
      "execution_count": 4,
      "outputs": []
    },
    {
      "cell_type": "code",
      "source": [
        "#function to read in the images and labels\n",
        "def read_images(folder):\n",
        "  images = []\n",
        "  labels = []\n",
        "  for tumor in os.listdir(folder): #gives a list of the files in this path - all the tumor folders\n",
        "    tumor_path = os.path.join(folder, tumor) #gives us the path to each tumor folder\n",
        "    if os.path.isdir(tumor_path): #if this is an existing path, then proceed\n",
        "      for file in os.listdir(tumor_path): #list of the files in the tumor path - testing and training in each tumor file\n",
        "        tumor_image_path = os.path.join(tumor_path, file) #getting the specific path to the images\n",
        "        tumor_image = image.load_img(tumor_image_path, target_size=(224, 224)) #loading image and setting target size to reshape later\n",
        "        images.append(image.img_to_array(tumor_image)) #adding all the images to the images list and converting the image to an array\n",
        "        labels.append(tumor) #adding labels (names of tumors) to the labels list\n",
        "  images = np.array(images)\n",
        "  labels = np.array(labels)\n",
        "  return images, labels"
      ],
      "metadata": {
        "id": "TSTrvHqyabw_"
      },
      "execution_count": 5,
      "outputs": []
    },
    {
      "cell_type": "code",
      "source": [
        "#training data\n",
        "X_train, y_train = read_images(train_folder)\n",
        "X_train, y_train = shuffle(X_train, y_train, random_state=42)\n",
        "\n",
        "#testing data\n",
        "X_test, y_test = read_images(test_folder)\n",
        "X_test, y_test = shuffle(X_test, y_test, random_state=42)\n",
        "\n",
        "y_train_encoded = pd.get_dummies(y_train)\n",
        "y_test_encoded = pd.get_dummies(y_test)"
      ],
      "metadata": {
        "id": "fojDMBz8ad2w"
      },
      "execution_count": 6,
      "outputs": []
    },
    {
      "cell_type": "code",
      "source": [
        "X_train.shape, y_train_encoded.shape"
      ],
      "metadata": {
        "colab": {
          "base_uri": "https://localhost:8080/"
        },
        "id": "skpm4DTiag1q",
        "outputId": "94413a80-baae-4e6d-b65a-88aeaa044a0b"
      },
      "execution_count": 7,
      "outputs": [
        {
          "output_type": "execute_result",
          "data": {
            "text/plain": [
              "((5714, 224, 224, 3), (5714, 4))"
            ]
          },
          "metadata": {},
          "execution_count": 7
        }
      ]
    },
    {
      "cell_type": "code",
      "source": [
        "X_train = X_train / 255\n",
        "X_test = X_test / 255"
      ],
      "metadata": {
        "id": "i-VvH-VWbGPa"
      },
      "execution_count": 8,
      "outputs": []
    },
    {
      "cell_type": "code",
      "source": [
        "#testing model 3 using l2 regularizers\n",
        "model3 = Sequential()\n",
        "\n",
        "model3.add(Flatten(input_shape=(X_train.shape[1:])))\n",
        "model3.add(Dense(59, activation='relu', kernel_regularizer=l2(0.002)))\n",
        "model3.add(Dense(15, activation='relu', kernel_regularizer=l2(0.002)))\n",
        "model3.add(Dense(4, activation='softmax', kernel_regularizer=l2(0.002)))"
      ],
      "metadata": {
        "id": "eGofuukDbIgr"
      },
      "execution_count": 9,
      "outputs": []
    },
    {
      "cell_type": "code",
      "source": [
        "model3.compile(loss='categorical_crossentropy', optimizer='adam', metrics=['acc'])"
      ],
      "metadata": {
        "id": "NbiYYlugbR-9"
      },
      "execution_count": 10,
      "outputs": []
    },
    {
      "cell_type": "code",
      "source": [
        "history3 = model3.fit(X_train, y_train_encoded, validation_data=(X_test, y_test_encoded), batch_size=16, epochs=10)"
      ],
      "metadata": {
        "colab": {
          "base_uri": "https://localhost:8080/"
        },
        "id": "_zPlExZvbTYT",
        "outputId": "c206d79c-cc74-4e61-b6b2-8abac9c8d8c2"
      },
      "execution_count": 11,
      "outputs": [
        {
          "output_type": "stream",
          "name": "stdout",
          "text": [
            "Epoch 1/10\n",
            "358/358 [==============================] - 10s 14ms/step - loss: 1.7179 - acc: 0.3862 - val_loss: 1.3582 - val_acc: 0.4638\n",
            "Epoch 2/10\n",
            "358/358 [==============================] - 3s 9ms/step - loss: 1.3015 - acc: 0.4398 - val_loss: 1.2542 - val_acc: 0.4943\n",
            "Epoch 3/10\n",
            "358/358 [==============================] - 3s 9ms/step - loss: 1.2800 - acc: 0.4611 - val_loss: 1.2422 - val_acc: 0.4790\n",
            "Epoch 4/10\n",
            "358/358 [==============================] - 3s 9ms/step - loss: 1.1744 - acc: 0.4613 - val_loss: 1.5584 - val_acc: 0.3402\n",
            "Epoch 5/10\n",
            "358/358 [==============================] - 3s 9ms/step - loss: 1.1602 - acc: 0.5592 - val_loss: 1.0663 - val_acc: 0.6834\n",
            "Epoch 6/10\n",
            "358/358 [==============================] - 3s 9ms/step - loss: 1.0268 - acc: 0.6481 - val_loss: 1.1140 - val_acc: 0.6438\n",
            "Epoch 7/10\n",
            "358/358 [==============================] - 3s 9ms/step - loss: 0.9709 - acc: 0.6610 - val_loss: 1.3368 - val_acc: 0.5408\n",
            "Epoch 8/10\n",
            "358/358 [==============================] - 3s 9ms/step - loss: 0.9089 - acc: 0.6878 - val_loss: 1.1868 - val_acc: 0.6186\n",
            "Epoch 9/10\n",
            "358/358 [==============================] - 3s 9ms/step - loss: 0.8970 - acc: 0.6997 - val_loss: 0.9657 - val_acc: 0.6850\n",
            "Epoch 10/10\n",
            "358/358 [==============================] - 3s 9ms/step - loss: 0.9182 - acc: 0.6899 - val_loss: 0.9994 - val_acc: 0.6621\n"
          ]
        }
      ]
    },
    {
      "cell_type": "code",
      "source": [
        "plt.figure(figsize=(6,6))\n",
        "plt.plot(history3.history['loss'], c='#93C5F3', label='Training Loss')\n",
        "plt.plot(history3.history['val_loss'], c='#344372', label='Validation Loss')\n",
        "plt.legend();"
      ],
      "metadata": {
        "colab": {
          "base_uri": "https://localhost:8080/",
          "height": 522
        },
        "id": "PypfZnPlq8hA",
        "outputId": "6327f34b-d877-4474-f7da-4bb6a922f017"
      },
      "execution_count": 12,
      "outputs": [
        {
          "output_type": "display_data",
          "data": {
            "text/plain": [
              "<Figure size 600x600 with 1 Axes>"
            ],
            "image/png": "[encoded data removed]"
          },
          "metadata": {}
        }
      ]
    },
    {
      "cell_type": "code",
      "source": [
        "model3.evaluate(X_test, y_test_encoded)"
      ],
      "metadata": {
        "colab": {
          "base_uri": "https://localhost:8080/"
        },
        "id": "v9FqQxhjbXz_",
        "outputId": "105d9b63-672a-43ec-bea1-fa976f9d4455"
      },
      "execution_count": 13,
      "outputs": [
        {
          "output_type": "stream",
          "name": "stdout",
          "text": [
            "41/41 [==============================] - 0s 9ms/step - loss: 0.9994 - acc: 0.6621\n"
          ]
        },
        {
          "output_type": "execute_result",
          "data": {
            "text/plain": [
              "[0.9994361400604248, 0.662090003490448]"
            ]
          },
          "metadata": {},
          "execution_count": 13
        }
      ]
    },
    {
      "cell_type": "code",
      "source": [
        "y_pred3 = model3.predict(X_test)\n",
        "#y_pred3"
      ],
      "metadata": {
        "id": "bmT_NZePciU5",
        "colab": {
          "base_uri": "https://localhost:8080/"
        },
        "outputId": "7b8f0a3c-2fd7-4dfa-a897-6d39ef72d221"
      },
      "execution_count": 14,
      "outputs": [
        {
          "output_type": "stream",
          "name": "stdout",
          "text": [
            "41/41 [==============================] - 0s 8ms/step\n"
          ]
        }
      ]
    },
    {
      "cell_type": "code",
      "source": [
        "y_prediction3 = np.argmax(y_pred3, axis=1)\n",
        "y_prediction3"
      ],
      "metadata": {
        "colab": {
          "base_uri": "https://localhost:8080/"
        },
        "id": "YRQazGUtifHH",
        "outputId": "b9f15364-2a7e-4d1b-92ca-1d04f6b3fff9"
      },
      "execution_count": 15,
      "outputs": [
        {
          "output_type": "execute_result",
          "data": {
            "text/plain": [
              "array([2, 2, 3, ..., 3, 0, 2])"
            ]
          },
          "metadata": {},
          "execution_count": 15
        }
      ]
    },
    {
      "cell_type": "code",
      "source": [
        "y_true3 = np.argmax(y_test_encoded.values, axis=1)\n",
        "y_true3"
      ],
      "metadata": {
        "colab": {
          "base_uri": "https://localhost:8080/"
        },
        "id": "fNJ6JakzilUY",
        "outputId": "d01346b0-2b4e-4154-8838-778de9fadd3c"
      },
      "execution_count": 16,
      "outputs": [
        {
          "output_type": "execute_result",
          "data": {
            "text/plain": [
              "array([2, 2, 0, ..., 2, 1, 2])"
            ]
          },
          "metadata": {},
          "execution_count": 16
        }
      ]
    },
    {
      "cell_type": "code",
      "source": [
        "matrix3 = confusion_matrix(y_true3, y_prediction3)\n",
        "matrix3"
      ],
      "metadata": {
        "colab": {
          "base_uri": "https://localhost:8080/"
        },
        "id": "zvXXT7HhirEN",
        "outputId": "9565d902-eb45-43b7-8761-fb3ddbea08f6"
      },
      "execution_count": 17,
      "outputs": [
        {
          "output_type": "execute_result",
          "data": {
            "text/plain": [
              "array([[222,  42,   0,  36],\n",
              "       [107,  61,  24, 114],\n",
              "       [  2,  34, 291,  78],\n",
              "       [  6,   0,   0, 294]])"
            ]
          },
          "metadata": {},
          "execution_count": 17
        }
      ]
    },
    {
      "cell_type": "code",
      "source": [
        "#plotting the confusion matrix\n",
        "plt.figure(figsize=(6, 6))\n",
        "sns.heatmap(matrix3, annot=True, cmap='Blues', xticklabels=['Glioma', 'Meningioma', 'No Tumor', 'Pituitary'], yticklabels=['Glioma', 'Meningioma', 'No Tumor', 'Pituitary'])\n",
        "plt.xlabel('Predicted')\n",
        "plt.ylabel('Actual')\n",
        "plt.title('Confusion Matrix')\n",
        "plt.show()"
      ],
      "metadata": {
        "colab": {
          "base_uri": "https://localhost:8080/",
          "height": 564
        },
        "id": "yHmjcJs-iw0t",
        "outputId": "91b6270f-b6f3-4867-eb43-4e2ca5781446"
      },
      "execution_count": 18,
      "outputs": [
        {
          "output_type": "display_data",
          "data": {
            "text/plain": [
              "<Figure size 600x600 with 2 Axes>"
            ],
            "image/png": "[encoded data removed]"
          },
          "metadata": {}
        }
      ]
    },
    {
      "cell_type": "code",
      "source": [
        "model3_precision = precision_score(y_true3, y_prediction3, average=None)\n",
        "model3_precision"
      ],
      "metadata": {
        "colab": {
          "base_uri": "https://localhost:8080/"
        },
        "id": "WAwJT0eBi1RG",
        "outputId": "7e17e5b9-2371-42e0-cec7-93c24c89f2ef"
      },
      "execution_count": 19,
      "outputs": [
        {
          "output_type": "execute_result",
          "data": {
            "text/plain": [
              "array([0.65875371, 0.44525547, 0.92380952, 0.56321839])"
            ]
          },
          "metadata": {},
          "execution_count": 19
        }
      ]
    },
    {
      "cell_type": "code",
      "source": [
        "model3_accuracy = accuracy_score(y_true3, y_prediction3)\n",
        "model3_accuracy"
      ],
      "metadata": {
        "colab": {
          "base_uri": "https://localhost:8080/"
        },
        "id": "ygTozte2kFnJ",
        "outputId": "ec8ad4bd-4d1a-4be7-df51-2619e3d6c3c7"
      },
      "execution_count": 20,
      "outputs": [
        {
          "output_type": "execute_result",
          "data": {
            "text/plain": [
              "0.662090007627765"
            ]
          },
          "metadata": {},
          "execution_count": 20
        }
      ]
    },
    {
      "cell_type": "code",
      "source": [
        "model3_recall = recall_score(y_true3, y_prediction3, average=None)\n",
        "model3_recall"
      ],
      "metadata": {
        "colab": {
          "base_uri": "https://localhost:8080/"
        },
        "id": "7SKQZPKSkJ0L",
        "outputId": "9665789c-4443-4da6-9758-7756bb9afe9f"
      },
      "execution_count": 21,
      "outputs": [
        {
          "output_type": "execute_result",
          "data": {
            "text/plain": [
              "array([0.74      , 0.19934641, 0.71851852, 0.98      ])"
            ]
          },
          "metadata": {},
          "execution_count": 21
        }
      ]
    },
    {
      "cell_type": "code",
      "source": [
        "model3_f1_score = f1_score(y_true3, y_prediction3, average=None)\n",
        "model3_f1_score"
      ],
      "metadata": {
        "colab": {
          "base_uri": "https://localhost:8080/"
        },
        "id": "JdDoCyzNkdeS",
        "outputId": "ab597e84-99fb-4d3b-abfc-96b0f5e3490c"
      },
      "execution_count": 22,
      "outputs": [
        {
          "output_type": "execute_result",
          "data": {
            "text/plain": [
              "array([0.69701727, 0.27539503, 0.80833333, 0.71532847])"
            ]
          },
          "metadata": {},
          "execution_count": 22
        }
      ]
    },
    {
      "cell_type": "code",
      "source": [
        "#baseline scores\n",
        "random_classifier = DummyClassifier(strategy=\"uniform\")\n",
        "random_classifier.fit(X_train, y_train_encoded)"
      ],
      "metadata": {
        "id": "R5Wf3M-nkhuu",
        "colab": {
          "base_uri": "https://localhost:8080/",
          "height": 74
        },
        "outputId": "05415259-8a7a-440e-d56d-1f8e0bdb515f"
      },
      "execution_count": 23,
      "outputs": [
        {
          "output_type": "execute_result",
          "data": {
            "text/plain": [
              "DummyClassifier(strategy='uniform')"
            ],
            "text/html": [
              "<style>#sk-container-id-1 {color: black;background-color: white;}#sk-container-id-1 pre{padding: 0;}#sk-container-id-1 div.sk-toggleable {background-color: white;}#sk-container-id-1 label.sk-toggleable__label {cursor: pointer;display: block;width: 100%;margin-bottom: 0;padding: 0.3em;box-sizing: border-box;text-align: center;}#sk-container-id-1 label.sk-toggleable__label-arrow:before {content: \"▸\";float: left;margin-right: 0.25em;color: #696969;}#sk-container-id-1 label.sk-toggleable__label-arrow:hover:before {color: black;}#sk-container-id-1 div.sk-estimator:hover label.sk-toggleable__label-arrow:before {color: black;}#sk-container-id-1 div.sk-toggleable__content {max-height: 0;max-width: 0;overflow: hidden;text-align: left;background-color: #f0f8ff;}#sk-container-id-1 div.sk-toggleable__content pre {margin: 0.2em;color: black;border-radius: 0.25em;background-color: #f0f8ff;}#sk-container-id-1 input.sk-toggleable__control:checked~div.sk-toggleable__content {max-height: 200px;max-width: 100%;overflow: auto;}#sk-container-id-1 input.sk-toggleable__control:checked~label.sk-toggleable__label-arrow:before {content: \"▾\";}#sk-container-id-1 div.sk-estimator input.sk-toggleable__control:checked~label.sk-toggleable__label {background-color: #d4ebff;}#sk-container-id-1 div.sk-label input.sk-toggleable__control:checked~label.sk-toggleable__label {background-color: #d4ebff;}#sk-container-id-1 input.sk-hidden--visually {border: 0;clip: rect(1px 1px 1px 1px);clip: rect(1px, 1px, 1px, 1px);height: 1px;margin: -1px;overflow: hidden;padding: 0;position: absolute;width: 1px;}#sk-container-id-1 div.sk-estimator {font-family: monospace;background-color: #f0f8ff;border: 1px dotted black;border-radius: 0.25em;box-sizing: border-box;margin-bottom: 0.5em;}#sk-container-id-1 div.sk-estimator:hover {background-color: #d4ebff;}#sk-container-id-1 div.sk-parallel-item::after {content: \"\";width: 100%;border-bottom: 1px solid gray;flex-grow: 1;}#sk-container-id-1 div.sk-label:hover label.sk-toggleable__label {background-color: #d4ebff;}#sk-container-id-1 div.sk-serial::before {content: \"\";position: absolute;border-left: 1px solid gray;box-sizing: border-box;top: 0;bottom: 0;left: 50%;z-index: 0;}#sk-container-id-1 div.sk-serial {display: flex;flex-direction: column;align-items: center;background-color: white;padding-right: 0.2em;padding-left: 0.2em;position: relative;}#sk-container-id-1 div.sk-item {position: relative;z-index: 1;}#sk-container-id-1 div.sk-parallel {display: flex;align-items: stretch;justify-content: center;background-color: white;position: relative;}#sk-container-id-1 div.sk-item::before, #sk-container-id-1 div.sk-parallel-item::before {content: \"\";position: absolute;border-left: 1px solid gray;box-sizing: border-box;top: 0;bottom: 0;left: 50%;z-index: -1;}#sk-container-id-1 div.sk-parallel-item {display: flex;flex-direction: column;z-index: 1;position: relative;background-color: white;}#sk-container-id-1 div.sk-parallel-item:first-child::after {align-self: flex-end;width: 50%;}#sk-container-id-1 div.sk-parallel-item:last-child::after {align-self: flex-start;width: 50%;}#sk-container-id-1 div.sk-parallel-item:only-child::after {width: 0;}#sk-container-id-1 div.sk-dashed-wrapped {border: 1px dashed gray;margin: 0 0.4em 0.5em 0.4em;box-sizing: border-box;padding-bottom: 0.4em;background-color: white;}#sk-container-id-1 div.sk-label label {font-family: monospace;font-weight: bold;display: inline-block;line-height: 1.2em;}#sk-container-id-1 div.sk-label-container {text-align: center;}#sk-container-id-1 div.sk-container {/* jupyter's `normalize.less` sets `[hidden] { display: none; }` but bootstrap.min.css set `[hidden] { display: none !important; }` so we also need the `!important` here to be able to override the default hidden behavior on the sphinx rendered scikit-learn.org. See: https://github.com/scikit-learn/scikit-learn/issues/21755 */display: inline-block !important;position: relative;}#sk-container-id-1 div.sk-text-repr-fallback {display: none;}</style><div id=\"sk-container-id-1\" class=\"sk-top-container\"><div class=\"sk-text-repr-fallback\"><pre>DummyClassifier(strategy=&#x27;uniform&#x27;)</pre><b>In a Jupyter environment, please rerun this cell to show the HTML representation or trust the notebook. <br />On GitHub, the HTML representation is unable to render, please try loading this page with nbviewer.org.</b></div><div class=\"sk-container\" hidden><div class=\"sk-item\"><div class=\"sk-estimator sk-toggleable\"><input class=\"sk-toggleable__control sk-hidden--visually\" id=\"sk-estimator-id-1\" type=\"checkbox\" checked><label for=\"sk-estimator-id-1\" class=\"sk-toggleable__label sk-toggleable__label-arrow\">DummyClassifier</label><div class=\"sk-toggleable__content\"><pre>DummyClassifier(strategy=&#x27;uniform&#x27;)</pre></div></div></div></div></div>"
            ]
          },
          "metadata": {},
          "execution_count": 23
        }
      ]
    },
    {
      "cell_type": "code",
      "source": [
        "random_prediction = random_classifier.predict(X_test)"
      ],
      "metadata": {
        "id": "wlfZQO_yd3VU"
      },
      "execution_count": 24,
      "outputs": []
    },
    {
      "cell_type": "code",
      "source": [
        "report = classification_report(y_test_encoded, random_prediction)\n",
        "print(report)"
      ],
      "metadata": {
        "colab": {
          "base_uri": "https://localhost:8080/"
        },
        "id": "hOSzuqbBd530",
        "outputId": "655181c4-8b47-4eb7-88cb-fe39f8602c63"
      },
      "execution_count": 25,
      "outputs": [
        {
          "output_type": "stream",
          "name": "stdout",
          "text": [
            "              precision    recall  f1-score   support\n",
            "\n",
            "           0       0.23      0.49      0.31       300\n",
            "           1       0.24      0.50      0.32       306\n",
            "           2       0.30      0.49      0.37       405\n",
            "           3       0.22      0.48      0.30       300\n",
            "\n",
            "   micro avg       0.25      0.49      0.33      1311\n",
            "   macro avg       0.25      0.49      0.33      1311\n",
            "weighted avg       0.25      0.49      0.33      1311\n",
            " samples avg       0.23      0.49      0.30      1311\n",
            "\n"
          ]
        },
        {
          "output_type": "stream",
          "name": "stderr",
          "text": [
            "/usr/local/lib/python3.10/dist-packages/sklearn/metrics/_classification.py:1344: UndefinedMetricWarning: Precision and F-score are ill-defined and being set to 0.0 in samples with no predicted labels. Use `zero_division` parameter to control this behavior.\n",
            "  _warn_prf(average, modifier, msg_start, len(result))\n"
          ]
        }
      ]
    }
  ]
}