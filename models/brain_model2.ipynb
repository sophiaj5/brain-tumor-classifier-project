{
  "nbformat": 4,
  "nbformat_minor": 0,
  "metadata": {
    "colab": {
      "provenance": [],
      "machine_shape": "hm",
      "gpuType": "T4"
    },
    "kernelspec": {
      "name": "python3",
      "display_name": "Python 3"
    },
    "language_info": {
      "name": "python"
    },
    "accelerator": "GPU"
  },
  "cells": [
    {
      "cell_type": "code",
      "execution_count": 26,
      "metadata": {
        "id": "URU_n30BdHFN"
      },
      "outputs": [],
      "source": [
        "#imports\n",
        "import pandas as pd\n",
        "import numpy as np\n",
        "import matplotlib.pyplot as plt\n",
        "import seaborn as sns\n",
        "import os\n",
        "from PIL import Image\n",
        "from sklearn.model_selection import train_test_split\n",
        "from sklearn.utils import shuffle\n",
        "from sklearn.dummy import DummyClassifier\n",
        "from sklearn.metrics import confusion_matrix, f1_score, accuracy_score, recall_score, precision_score, classification_report\n",
        "from keras.preprocessing import image\n",
        "from tensorflow.keras.models import Sequential\n",
        "from tensorflow.keras.layers import Dense, Flatten\n",
        "from tensorflow.keras.callbacks import EarlyStopping"
      ]
    },
    {
      "cell_type": "code",
      "source": [
        "#reading data from my google drive\n",
        "from google.colab import drive\n",
        "drive.mount('/content/drive')"
      ],
      "metadata": {
        "colab": {
          "base_uri": "https://localhost:8080/"
        },
        "id": "KN9FKRmRVqVh",
        "outputId": "40e000a9-9855-4805-c934-380fe197d53c"
      },
      "execution_count": 27,
      "outputs": [
        {
          "output_type": "stream",
          "name": "stdout",
          "text": [
            "Drive already mounted at /content/drive; to attempt to forcibly remount, call drive.mount(\"/content/drive\", force_remount=True).\n"
          ]
        }
      ]
    },
    {
      "cell_type": "code",
      "source": [
        "!ls '/content/drive/MyDrive/Capstone/brain'"
      ],
      "metadata": {
        "colab": {
          "base_uri": "https://localhost:8080/"
        },
        "id": "j_fcyXH9Vu1N",
        "outputId": "33f1c583-af4d-48b4-e8d8-02b275cafc54"
      },
      "execution_count": 28,
      "outputs": [
        {
          "output_type": "stream",
          "name": "stdout",
          "text": [
            "Testing  Training\n"
          ]
        }
      ]
    },
    {
      "cell_type": "code",
      "source": [
        "train_folder = '/content/drive/MyDrive/Capstone/brain/Training'\n",
        "test_folder = '/content/drive/MyDrive/Capstone/brain/Testing'"
      ],
      "metadata": {
        "id": "pNFeGblqWmWO"
      },
      "execution_count": 29,
      "outputs": []
    },
    {
      "cell_type": "code",
      "source": [
        "#function to read in the images and labels\n",
        "def read_images(folder):\n",
        "  images = []\n",
        "  labels = []\n",
        "  for tumor in os.listdir(folder): #gives a list of the files in this path - all the tumor folders\n",
        "    tumor_path = os.path.join(folder, tumor) #gives us the path to each tumor folder\n",
        "    if os.path.isdir(tumor_path): #if this is an existing path, then proceed\n",
        "      for file in os.listdir(tumor_path): #list of the files in the tumor path - testing and training in each tumor file\n",
        "        tumor_image_path = os.path.join(tumor_path, file) #getting the specific path to the images\n",
        "        tumor_image = image.load_img(tumor_image_path, target_size=(224, 224)) #loading image and setting target size to reshape later\n",
        "        images.append(image.img_to_array(tumor_image)) #adding all the images to the images list and converting the image to an array\n",
        "        labels.append(tumor) #adding labels (names of tumors) to the labels list\n",
        "  images = np.array(images)\n",
        "  labels = np.array(labels)\n",
        "  return images, labels"
      ],
      "metadata": {
        "id": "3g7aCq8pWK5A"
      },
      "execution_count": 30,
      "outputs": []
    },
    {
      "cell_type": "code",
      "source": [
        "#training data\n",
        "X_train, y_train = read_images(train_folder)\n",
        "X_train, y_train = shuffle(X_train, y_train, random_state=42)\n",
        "\n",
        "#testing data\n",
        "X_test, y_test = read_images(test_folder)\n",
        "X_test, y_test = shuffle(X_test, y_test, random_state=42)\n",
        "\n",
        "y_train_encoded = pd.get_dummies(y_train)\n",
        "y_test_encoded = pd.get_dummies(y_test)"
      ],
      "metadata": {
        "id": "WMWUg3KoWNBS"
      },
      "execution_count": 31,
      "outputs": []
    },
    {
      "cell_type": "code",
      "source": [
        "X_train.shape, y_train_encoded.shape"
      ],
      "metadata": {
        "colab": {
          "base_uri": "https://localhost:8080/"
        },
        "id": "KUjhJCCQWPm5",
        "outputId": "de7266a9-71ff-42e6-f6be-c18df210e579"
      },
      "execution_count": 32,
      "outputs": [
        {
          "output_type": "execute_result",
          "data": {
            "text/plain": [
              "((5714, 224, 224, 3), (5714, 4))"
            ]
          },
          "metadata": {},
          "execution_count": 32
        }
      ]
    },
    {
      "cell_type": "code",
      "source": [
        "X_train = X_train / 255\n",
        "X_test = X_test / 255"
      ],
      "metadata": {
        "id": "Ba_iZV-VXGHO"
      },
      "execution_count": 33,
      "outputs": []
    },
    {
      "cell_type": "code",
      "source": [
        "#testing model 2 using EarlyStop\n",
        "model2 = Sequential()\n",
        "\n",
        "n_input2 = X_train.shape[1]\n",
        "\n",
        "model2.add(Flatten(input_shape=(X_train.shape[1:])))\n",
        "model2.add(Dense(25, input_dim=n_input2, activation='relu'))\n",
        "model2.add(Dense(12, activation='relu'))\n",
        "model2.add(Dense(4, activation='softmax'))"
      ],
      "metadata": {
        "id": "Fy_a1pCjXYvC"
      },
      "execution_count": 34,
      "outputs": []
    },
    {
      "cell_type": "code",
      "source": [
        "model2.compile(loss='categorical_crossentropy', optimizer='adam', metrics=['acc'])\n",
        "\n",
        "es = EarlyStopping(monitor='val_loss', min_delta=0, patience=5, verbose=1, mode='auto')"
      ],
      "metadata": {
        "id": "MU7kB5n4Ybal"
      },
      "execution_count": 35,
      "outputs": []
    },
    {
      "cell_type": "code",
      "source": [
        "history2 = model2.fit(X_train, y_train_encoded, validation_data=(X_test, y_test_encoded), batch_size=None, epochs=10, callbacks=es)"
      ],
      "metadata": {
        "colab": {
          "base_uri": "https://localhost:8080/"
        },
        "id": "30ohtQ2JYgcC",
        "outputId": "ec46d533-93ff-402e-a4f7-67a46e7b72a9"
      },
      "execution_count": 36,
      "outputs": [
        {
          "output_type": "stream",
          "name": "stdout",
          "text": [
            "Epoch 1/10\n",
            "179/179 [==============================] - 4s 20ms/step - loss: 1.8515 - acc: 0.5613 - val_loss: 1.0755 - val_acc: 0.6796\n",
            "Epoch 2/10\n",
            "179/179 [==============================] - 2s 12ms/step - loss: 0.8160 - acc: 0.7191 - val_loss: 0.8709 - val_acc: 0.7605\n",
            "Epoch 3/10\n",
            "179/179 [==============================] - 2s 12ms/step - loss: 0.6321 - acc: 0.7692 - val_loss: 0.9798 - val_acc: 0.7025\n",
            "Epoch 4/10\n",
            "179/179 [==============================] - 2s 12ms/step - loss: 0.6698 - acc: 0.7709 - val_loss: 0.6671 - val_acc: 0.7857\n",
            "Epoch 5/10\n",
            "179/179 [==============================] - 2s 12ms/step - loss: 0.5176 - acc: 0.8239 - val_loss: 0.7456 - val_acc: 0.7399\n",
            "Epoch 6/10\n",
            "179/179 [==============================] - 2s 12ms/step - loss: 0.4548 - acc: 0.8386 - val_loss: 0.7850 - val_acc: 0.7216\n",
            "Epoch 7/10\n",
            "179/179 [==============================] - 2s 12ms/step - loss: 0.4099 - acc: 0.8549 - val_loss: 0.4835 - val_acc: 0.8383\n",
            "Epoch 8/10\n",
            "179/179 [==============================] - 2s 12ms/step - loss: 0.4378 - acc: 0.8532 - val_loss: 0.5350 - val_acc: 0.8268\n",
            "Epoch 9/10\n",
            "179/179 [==============================] - 2s 12ms/step - loss: 0.3229 - acc: 0.8847 - val_loss: 0.3933 - val_acc: 0.8574\n",
            "Epoch 10/10\n",
            "179/179 [==============================] - 2s 12ms/step - loss: 0.2935 - acc: 0.8929 - val_loss: 0.6052 - val_acc: 0.8238\n"
          ]
        }
      ]
    },
    {
      "cell_type": "code",
      "source": [
        "plt.figure(figsize=(6, 6))\n",
        "plt.plot(history2.history['loss'], c='#93C5F3', label='Training Loss')\n",
        "plt.plot(history2.history['val_loss'], c='#344372', label='Validation Loss')\n",
        "plt.legend();"
      ],
      "metadata": {
        "colab": {
          "base_uri": "https://localhost:8080/",
          "height": 522
        },
        "id": "37Ma9uXtq2Y_",
        "outputId": "5b7e9e86-cc0a-4bcc-ad94-5a63aeb69c5d"
      },
      "execution_count": 37,
      "outputs": [
        {
          "output_type": "display_data",
          "data": {
            "text/plain": [
              "<Figure size 600x600 with 1 Axes>"
            ],
            "image/png": "[encoded data removed]"
          },
          "metadata": {}
        }
      ]
    },
    {
      "cell_type": "code",
      "source": [
        "model2.evaluate(X_test, y_test_encoded)"
      ],
      "metadata": {
        "colab": {
          "base_uri": "https://localhost:8080/"
        },
        "id": "o4vse_JmYiGR",
        "outputId": "0dbb4c85-90db-4486-80e4-80d089b1a164"
      },
      "execution_count": 38,
      "outputs": [
        {
          "output_type": "stream",
          "name": "stdout",
          "text": [
            "41/41 [==============================] - 0s 8ms/step - loss: 0.6052 - acc: 0.8238\n"
          ]
        },
        {
          "output_type": "execute_result",
          "data": {
            "text/plain": [
              "[0.6052013039588928, 0.823798656463623]"
            ]
          },
          "metadata": {},
          "execution_count": 38
        }
      ]
    },
    {
      "cell_type": "code",
      "source": [
        "y_pred2 = model2.predict(X_test)\n",
        "#y_pred2"
      ],
      "metadata": {
        "id": "dDUwaJrJZaNI",
        "colab": {
          "base_uri": "https://localhost:8080/"
        },
        "outputId": "c7d874b1-dda6-435b-a88c-f7c2f6c413d1"
      },
      "execution_count": 39,
      "outputs": [
        {
          "output_type": "stream",
          "name": "stdout",
          "text": [
            "41/41 [==============================] - 0s 7ms/step\n"
          ]
        }
      ]
    },
    {
      "cell_type": "code",
      "source": [
        "y_prediction2 = np.argmax(y_pred2, axis=1)\n",
        "y_prediction2"
      ],
      "metadata": {
        "colab": {
          "base_uri": "https://localhost:8080/"
        },
        "id": "eeFiPvBDeP3z",
        "outputId": "2919f98c-8f22-4262-8b61-23ace809315e"
      },
      "execution_count": 40,
      "outputs": [
        {
          "output_type": "execute_result",
          "data": {
            "text/plain": [
              "array([2, 2, 0, ..., 2, 0, 2])"
            ]
          },
          "metadata": {},
          "execution_count": 40
        }
      ]
    },
    {
      "cell_type": "code",
      "source": [
        "y_true2 = np.argmax(y_test_encoded.values, axis=1)\n",
        "y_true2"
      ],
      "metadata": {
        "colab": {
          "base_uri": "https://localhost:8080/"
        },
        "id": "njy01uybeXDu",
        "outputId": "16d6996b-9389-491c-a33c-299969bae842"
      },
      "execution_count": 41,
      "outputs": [
        {
          "output_type": "execute_result",
          "data": {
            "text/plain": [
              "array([2, 2, 0, ..., 2, 1, 2])"
            ]
          },
          "metadata": {},
          "execution_count": 41
        }
      ]
    },
    {
      "cell_type": "code",
      "source": [
        "matrix2 = confusion_matrix(y_true2, y_prediction2)\n",
        "matrix2"
      ],
      "metadata": {
        "colab": {
          "base_uri": "https://localhost:8080/"
        },
        "id": "5jyz9BObedAc",
        "outputId": "b1fe5d8e-6eaa-4f1f-a886-3d1eecd8cc5f"
      },
      "execution_count": 42,
      "outputs": [
        {
          "output_type": "execute_result",
          "data": {
            "text/plain": [
              "array([[282,   9,   3,   6],\n",
              "       [141, 116,  34,  15],\n",
              "       [  3,   0, 402,   0],\n",
              "       [ 18,   0,   2, 280]])"
            ]
          },
          "metadata": {},
          "execution_count": 42
        }
      ]
    },
    {
      "cell_type": "code",
      "source": [
        "#plotting the confusion matrix\n",
        "plt.figure(figsize=(6, 6))\n",
        "sns.heatmap(matrix2, annot=True, cmap='Blues', xticklabels=['Glioma', 'Meningioma', 'No Tumor', 'Pituitary'], yticklabels=['Glioma', 'Meningioma', 'No Tumor', 'Pituitary'])\n",
        "plt.xlabel('Predicted')\n",
        "plt.ylabel('Actual')\n",
        "plt.title('Confusion Matrix')\n",
        "plt.show()"
      ],
      "metadata": {
        "colab": {
          "base_uri": "https://localhost:8080/",
          "height": 564
        },
        "id": "T1M1ozUjekhA",
        "outputId": "d55ed5d1-197a-4d9a-eb15-18c7be9784a3"
      },
      "execution_count": 43,
      "outputs": [
        {
          "output_type": "display_data",
          "data": {
            "text/plain": [
              "<Figure size 600x600 with 2 Axes>"
            ],
            "image/png": "[encoded data removed]"
          },
          "metadata": {}
        }
      ]
    },
    {
      "cell_type": "code",
      "source": [
        "model2_precision = precision_score(y_true2, y_prediction2, average=None)\n",
        "model2_precision"
      ],
      "metadata": {
        "colab": {
          "base_uri": "https://localhost:8080/"
        },
        "id": "jSULeGGfes4G",
        "outputId": "2c8282ea-f0f2-4bdb-bcbd-67aa7538579a"
      },
      "execution_count": 44,
      "outputs": [
        {
          "output_type": "execute_result",
          "data": {
            "text/plain": [
              "array([0.63513514, 0.928     , 0.91156463, 0.93023256])"
            ]
          },
          "metadata": {},
          "execution_count": 44
        }
      ]
    },
    {
      "cell_type": "code",
      "source": [
        "model2_accuracy = accuracy_score(y_true2, y_prediction2)\n",
        "model2_accuracy"
      ],
      "metadata": {
        "colab": {
          "base_uri": "https://localhost:8080/"
        },
        "id": "NaZzgpHxe3S3",
        "outputId": "9cb545af-40db-43ea-be9d-1f0e4fe8217c"
      },
      "execution_count": 45,
      "outputs": [
        {
          "output_type": "execute_result",
          "data": {
            "text/plain": [
              "0.8237986270022883"
            ]
          },
          "metadata": {},
          "execution_count": 45
        }
      ]
    },
    {
      "cell_type": "code",
      "source": [
        "model2_recall = recall_score(y_true2, y_prediction2, average=None)\n",
        "model2_recall"
      ],
      "metadata": {
        "colab": {
          "base_uri": "https://localhost:8080/"
        },
        "id": "4mHzAbM4fAm5",
        "outputId": "b1b5b040-f682-46bb-f3b4-916d405101a6"
      },
      "execution_count": 46,
      "outputs": [
        {
          "output_type": "execute_result",
          "data": {
            "text/plain": [
              "array([0.94      , 0.37908497, 0.99259259, 0.93333333])"
            ]
          },
          "metadata": {},
          "execution_count": 46
        }
      ]
    },
    {
      "cell_type": "code",
      "source": [
        "model2_f1_score = f1_score(y_true2, y_prediction2, average=None)\n",
        "model2_f1_score"
      ],
      "metadata": {
        "colab": {
          "base_uri": "https://localhost:8080/"
        },
        "id": "Dtg5OEIYfETK",
        "outputId": "f3c719e8-40ce-4fe9-ab29-338e28c8b508"
      },
      "execution_count": 47,
      "outputs": [
        {
          "output_type": "execute_result",
          "data": {
            "text/plain": [
              "array([0.75806452, 0.53828306, 0.95035461, 0.93178037])"
            ]
          },
          "metadata": {},
          "execution_count": 47
        }
      ]
    },
    {
      "cell_type": "code",
      "source": [
        "#baseline scores\n",
        "random_classifier = DummyClassifier(strategy=\"uniform\")\n",
        "random_classifier.fit(X_train, y_train_encoded)"
      ],
      "metadata": {
        "id": "ujrv-S7qfPpa",
        "colab": {
          "base_uri": "https://localhost:8080/",
          "height": 74
        },
        "outputId": "a3b3b2c1-9fc9-4531-f2ec-8ed207273792"
      },
      "execution_count": 48,
      "outputs": [
        {
          "output_type": "execute_result",
          "data": {
            "text/plain": [
              "DummyClassifier(strategy='uniform')"
            ],
            "text/html": [
              "<style>#sk-container-id-2 {color: black;background-color: white;}#sk-container-id-2 pre{padding: 0;}#sk-container-id-2 div.sk-toggleable {background-color: white;}#sk-container-id-2 label.sk-toggleable__label {cursor: pointer;display: block;width: 100%;margin-bottom: 0;padding: 0.3em;box-sizing: border-box;text-align: center;}#sk-container-id-2 label.sk-toggleable__label-arrow:before {content: \"▸\";float: left;margin-right: 0.25em;color: #696969;}#sk-container-id-2 label.sk-toggleable__label-arrow:hover:before {color: black;}#sk-container-id-2 div.sk-estimator:hover label.sk-toggleable__label-arrow:before {color: black;}#sk-container-id-2 div.sk-toggleable__content {max-height: 0;max-width: 0;overflow: hidden;text-align: left;background-color: #f0f8ff;}#sk-container-id-2 div.sk-toggleable__content pre {margin: 0.2em;color: black;border-radius: 0.25em;background-color: #f0f8ff;}#sk-container-id-2 input.sk-toggleable__control:checked~div.sk-toggleable__content {max-height: 200px;max-width: 100%;overflow: auto;}#sk-container-id-2 input.sk-toggleable__control:checked~label.sk-toggleable__label-arrow:before {content: \"▾\";}#sk-container-id-2 div.sk-estimator input.sk-toggleable__control:checked~label.sk-toggleable__label {background-color: #d4ebff;}#sk-container-id-2 div.sk-label input.sk-toggleable__control:checked~label.sk-toggleable__label {background-color: #d4ebff;}#sk-container-id-2 input.sk-hidden--visually {border: 0;clip: rect(1px 1px 1px 1px);clip: rect(1px, 1px, 1px, 1px);height: 1px;margin: -1px;overflow: hidden;padding: 0;position: absolute;width: 1px;}#sk-container-id-2 div.sk-estimator {font-family: monospace;background-color: #f0f8ff;border: 1px dotted black;border-radius: 0.25em;box-sizing: border-box;margin-bottom: 0.5em;}#sk-container-id-2 div.sk-estimator:hover {background-color: #d4ebff;}#sk-container-id-2 div.sk-parallel-item::after {content: \"\";width: 100%;border-bottom: 1px solid gray;flex-grow: 1;}#sk-container-id-2 div.sk-label:hover label.sk-toggleable__label {background-color: #d4ebff;}#sk-container-id-2 div.sk-serial::before {content: \"\";position: absolute;border-left: 1px solid gray;box-sizing: border-box;top: 0;bottom: 0;left: 50%;z-index: 0;}#sk-container-id-2 div.sk-serial {display: flex;flex-direction: column;align-items: center;background-color: white;padding-right: 0.2em;padding-left: 0.2em;position: relative;}#sk-container-id-2 div.sk-item {position: relative;z-index: 1;}#sk-container-id-2 div.sk-parallel {display: flex;align-items: stretch;justify-content: center;background-color: white;position: relative;}#sk-container-id-2 div.sk-item::before, #sk-container-id-2 div.sk-parallel-item::before {content: \"\";position: absolute;border-left: 1px solid gray;box-sizing: border-box;top: 0;bottom: 0;left: 50%;z-index: -1;}#sk-container-id-2 div.sk-parallel-item {display: flex;flex-direction: column;z-index: 1;position: relative;background-color: white;}#sk-container-id-2 div.sk-parallel-item:first-child::after {align-self: flex-end;width: 50%;}#sk-container-id-2 div.sk-parallel-item:last-child::after {align-self: flex-start;width: 50%;}#sk-container-id-2 div.sk-parallel-item:only-child::after {width: 0;}#sk-container-id-2 div.sk-dashed-wrapped {border: 1px dashed gray;margin: 0 0.4em 0.5em 0.4em;box-sizing: border-box;padding-bottom: 0.4em;background-color: white;}#sk-container-id-2 div.sk-label label {font-family: monospace;font-weight: bold;display: inline-block;line-height: 1.2em;}#sk-container-id-2 div.sk-label-container {text-align: center;}#sk-container-id-2 div.sk-container {/* jupyter's `normalize.less` sets `[hidden] { display: none; }` but bootstrap.min.css set `[hidden] { display: none !important; }` so we also need the `!important` here to be able to override the default hidden behavior on the sphinx rendered scikit-learn.org. See: https://github.com/scikit-learn/scikit-learn/issues/21755 */display: inline-block !important;position: relative;}#sk-container-id-2 div.sk-text-repr-fallback {display: none;}</style><div id=\"sk-container-id-2\" class=\"sk-top-container\"><div class=\"sk-text-repr-fallback\"><pre>DummyClassifier(strategy=&#x27;uniform&#x27;)</pre><b>In a Jupyter environment, please rerun this cell to show the HTML representation or trust the notebook. <br />On GitHub, the HTML representation is unable to render, please try loading this page with nbviewer.org.</b></div><div class=\"sk-container\" hidden><div class=\"sk-item\"><div class=\"sk-estimator sk-toggleable\"><input class=\"sk-toggleable__control sk-hidden--visually\" id=\"sk-estimator-id-2\" type=\"checkbox\" checked><label for=\"sk-estimator-id-2\" class=\"sk-toggleable__label sk-toggleable__label-arrow\">DummyClassifier</label><div class=\"sk-toggleable__content\"><pre>DummyClassifier(strategy=&#x27;uniform&#x27;)</pre></div></div></div></div></div>"
            ]
          },
          "metadata": {},
          "execution_count": 48
        }
      ]
    },
    {
      "cell_type": "code",
      "source": [
        "random_prediction = random_classifier.predict(X_test)"
      ],
      "metadata": {
        "id": "Y5c5njerRYSw"
      },
      "execution_count": 49,
      "outputs": []
    },
    {
      "cell_type": "code",
      "source": [
        "report = classification_report(y_test_encoded, random_prediction)\n",
        "print(report)"
      ],
      "metadata": {
        "colab": {
          "base_uri": "https://localhost:8080/"
        },
        "id": "4vgexvLVRceM",
        "outputId": "53e2a652-fab2-43cc-8376-a78f6be30d2d"
      },
      "execution_count": 50,
      "outputs": [
        {
          "output_type": "stream",
          "name": "stdout",
          "text": [
            "              precision    recall  f1-score   support\n",
            "\n",
            "           0       0.24      0.53      0.33       300\n",
            "           1       0.24      0.53      0.33       306\n",
            "           2       0.33      0.52      0.40       405\n",
            "           3       0.24      0.50      0.33       300\n",
            "\n",
            "   micro avg       0.26      0.52      0.35      1311\n",
            "   macro avg       0.26      0.52      0.35      1311\n",
            "weighted avg       0.27      0.52      0.35      1311\n",
            " samples avg       0.25      0.52      0.32      1311\n",
            "\n"
          ]
        },
        {
          "output_type": "stream",
          "name": "stderr",
          "text": [
            "/usr/local/lib/python3.10/dist-packages/sklearn/metrics/_classification.py:1344: UndefinedMetricWarning: Precision and F-score are ill-defined and being set to 0.0 in samples with no predicted labels. Use `zero_division` parameter to control this behavior.\n",
            "  _warn_prf(average, modifier, msg_start, len(result))\n"
          ]
        }
      ]
    }
  ]
}